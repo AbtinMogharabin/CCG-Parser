{
  "nbformat": 4,
  "nbformat_minor": 0,
  "metadata": {
    "colab": {
      "provenance": []
    },
    "kernelspec": {
      "display_name": "Python 3",
      "name": "python3"
    },
    "language_info": {
      "name": "python"
    }
  },
  "cells": [
    {
      "cell_type": "markdown",
      "source": [
        "# Semantic Parser CGG in Python\n",
        "\n",
        "This file includes extensive tests for the functionalities of the sections that are currently completed."
      ],
      "metadata": {
        "id": "TSg5jsbda8WU"
      }
    },
    {
      "cell_type": "code",
      "source": [
        "!pip install symengine\n",
        "import symengine"
      ],
      "metadata": {
        "id": "m4iCQQMMYn05"
      },
      "execution_count": null,
      "outputs": []
    },
    {
      "cell_type": "code",
      "source": [
        "from Utils import *\n",
        "from LambdaUtils import *\n",
        "from LambdaCalculus import *\n",
        "from ClassifyVars import *\n",
        "from ModalLogic import *\n",
        "from IMCCG import *"
      ],
      "metadata": {
        "id": "jMgo17v0AZj8"
      },
      "execution_count": null,
      "outputs": []
    },
    {
      "cell_type": "code",
      "source": [
        "if __name__ == \"__main__\":\n",
        "    x = Variable(\"x\")\n",
        "    f = Constant(\"person\")\n",
        "    term = apply(f, x)\n",
        "    abs_term = lambda_(x, apply(f, x))\n",
        "    print(term)\n",
        "    print(abs_term)"
      ],
      "metadata": {
        "colab": {
          "base_uri": "https://localhost:8080/"
        },
        "id": "Yg9y7lbzk_Xg",
        "outputId": "af7fb2ac-a9e8-4723-8a53-4f72e8a1f159"
      },
      "execution_count": null,
      "outputs": [
        {
          "output_type": "stream",
          "name": "stdout",
          "text": [
            "(person)(x)\n",
            "λx.((person)(x))\n"
          ]
        }
      ]
    },
    {
      "cell_type": "code",
      "source": [
        "conjunction = Conjunction(PredicateFormula(Person, Variable('x')),\n",
        "                          PredicateFormula(Person, Variable('z')))\n",
        "print(conjunction)"
      ],
      "metadata": {
        "id": "hdBmGvZFUVlz",
        "colab": {
          "base_uri": "https://localhost:8080/"
        },
        "outputId": "e7558f2d-7724-4836-bf32-61834ef93985"
      },
      "execution_count": null,
      "outputs": [
        {
          "output_type": "stream",
          "name": "stdout",
          "text": [
            "Person(x) ∧ Person(z)\n"
          ]
        }
      ]
    },
    {
      "cell_type": "code",
      "source": [
        "def test_logic_modules():\n",
        "    P = Predicate(\"P\")\n",
        "    Q = Predicate(\"Q\")\n",
        "    p = PredicateFormula(P, (Variable(\"x\")))\n",
        "    q = PredicateFormula(Q, (Variable(\"y\")))\n",
        "    print(\"Predicate Formula p:\", p)\n",
        "    print(\"Predicate Formula q:\", q)\n",
        "\n",
        "    c1 = Conjunction(p, q)\n",
        "    c2 = Conjunction(q, p)\n",
        "    print(\"Conjunction c1:\", c1)\n",
        "    print(\"Conjunction c2:\", c2)\n",
        "\n",
        "    r = BinaryPredicate(\"R\")\n",
        "    bf1 = BinaryPredicateFormula(r, (Variable(\"x\"), Constant(\"c\")))\n",
        "    bf2 = BinaryPredicateFormula(r, (Constant(\"d\"), Variable(\"y\")))\n",
        "    print(\"Binary Predicate Formula bf1:\", bf1)\n",
        "    print(\"Binary Predicate Formula bf2:\", bf2)\n",
        "\n",
        "    p1 = Variable(\"p1\")\n",
        "    p2 = Variable(\"p2\")\n",
        "    q1 = Variable(\"q1\")\n",
        "    q2 = Variable(\"q2\")\n",
        "\n",
        "    h = HornClause(p1, p2, q1)\n",
        "    print(\"Horn Clause h:\", h)\n",
        "\n",
        "    e = ExistentialQuantifier(Variable(\"x\"), c1)\n",
        "    print(\"Existentially Quantified Statement e:\", e)\n",
        "\n",
        "\n",
        "if __name__ == \"__main__\":\n",
        "    test_logic_modules()"
      ],
      "metadata": {
        "colab": {
          "base_uri": "https://localhost:8080/"
        },
        "id": "H5b9dHZoXD0f",
        "outputId": "65c58e97-363a-4f19-9f6e-12f07c56d403"
      },
      "execution_count": null,
      "outputs": [
        {
          "output_type": "stream",
          "name": "stdout",
          "text": [
            "Predicate Formula p: P(x)\n",
            "Predicate Formula q: Q(y)\n",
            "Conjunction c1: P(x) ∧ Q(y)\n",
            "Conjunction c2: Q(y) ∧ P(x)\n",
            "Binary Predicate Formula bf1: R(x, c)\n",
            "Binary Predicate Formula bf2: R(d, y)\n",
            "Horn Clause h: p1 ∧ p2 ⟹ q1\n",
            "Existentially Quantified Statement e: ∃x.P(x) ∧ Q(y)\n"
          ]
        }
      ]
    },
    {
      "cell_type": "code",
      "source": [
        "def test_logic_modules():\n",
        "    P = BinaryPredicate(\"P\")\n",
        "    p1 = Variable(\"p1\")\n",
        "    p2 = Variable(\"p2\")\n",
        "    q1 = Variable(\"q1\")\n",
        "    q2 = Variable(\"q2\")\n",
        "    p = BinaryPredicateFormula(P, (Variable(\"x\"), Constant(\"a\")))\n",
        "\n",
        "    necessity_p = Necessity(p)\n",
        "    possibility_p1 = Possibility(p1)\n",
        "    modal_formula = ModalFormula(\"◇ \", p2)\n",
        "    print(\"Necessity: \", necessity_p)\n",
        "    print(\"Possibility: \", possibility_p1)\n",
        "    print(\"Modal Formula: \", modal_formula)\n",
        "\n",
        "if __name__ == \"__main__\":\n",
        "    test_logic_modules()"
      ],
      "metadata": {
        "id": "oC3D9N4DYJAv",
        "colab": {
          "base_uri": "https://localhost:8080/"
        },
        "outputId": "1742d844-d742-43cd-b091-7276bd82f645"
      },
      "execution_count": null,
      "outputs": [
        {
          "output_type": "stream",
          "name": "stdout",
          "text": [
            "Necessity:  □ P(x, a)\n",
            "Possibility:  ◇ p1\n",
            "Modal Formula:  ◇ p2\n"
          ]
        }
      ]
    },
    {
      "cell_type": "code",
      "source": [
        "x = Variable(\"x\")\n",
        "y = Variable(\"y\")\n",
        "formula1 = Negation(Conjunction(x, y))\n",
        "formula2 = HornClause(x, Disjunction(y, Negation(x)))\n",
        "print(formula1)\n",
        "print(formula2)"
      ],
      "metadata": {
        "id": "8Xs0FQmMVKJu",
        "colab": {
          "base_uri": "https://localhost:8080/"
        },
        "outputId": "ff55e034-6f08-49a5-cdd1-9f4b4ec68b5b"
      },
      "execution_count": null,
      "outputs": [
        {
          "output_type": "stream",
          "name": "stdout",
          "text": [
            "¬(x ∧ y)\n",
            "x ⟹ (y ∨ ¬(x))\n"
          ]
        }
      ]
    },
    {
      "cell_type": "code",
      "source": [
        "if __name__ == \"__main__\":\n",
        "    x = Variable(\"x\")\n",
        "    y = Variable(\"y\")\n",
        "    z = Variable(\"z\")\n",
        "    abs_term = Abstraction(x, apply(x, y))\n",
        "\n",
        "    print(\"Original lambda expression:\", abs_term)\n",
        "\n",
        "    new_abs = alpha_convert(abs_term, z)\n",
        "    print(\"\\nAlpha converted lambda expression:\", new_abs)\n",
        "\n",
        "    renamed_abs = rename_var(abs_term, x, z)\n",
        "    print(\"\\nLambda expression after variable renaming:\", renamed_abs)\n",
        "\n",
        "    app = Application(x, y)\n",
        "    renamed_app = rename_var(app, x, z)\n",
        "    print(\"\\nApplication after variable renaming:\", renamed_app)\n"
      ],
      "metadata": {
        "colab": {
          "base_uri": "https://localhost:8080/"
        },
        "id": "s-PaOzIAq_ff",
        "outputId": "bb3a7db1-db24-42f5-e8be-4adf44865813"
      },
      "execution_count": null,
      "outputs": [
        {
          "output_type": "stream",
          "name": "stdout",
          "text": [
            "Original lambda expression: λx.((x)(y))\n",
            "\n",
            "Alpha converted lambda expression: λz.((z)(y))\n",
            "\n",
            "Lambda expression after variable renaming: λz.((z)(y))\n",
            "\n",
            "Application after variable renaming: (z)(y)\n"
          ]
        }
      ]
    },
    {
      "cell_type": "code",
      "source": [
        "if __name__ == \"__main__\":\n",
        "    x = Variable(\"x\")\n",
        "    y = Variable(\"y\")\n",
        "\n",
        "    abs_term = Abstraction(x, Abstraction(y, apply(x, y)))\n",
        "\n",
        "    print(\"Original lambda expression:\", abs_term)\n",
        "\n",
        "    new_var = Variable(\"z\")\n",
        "    alpha_converted_abs = alpha_convert(abs_term, new_var)\n",
        "\n",
        "    print(\"\\nAlpha-converted lambda expression:\", alpha_converted_abs)"
      ],
      "metadata": {
        "colab": {
          "base_uri": "https://localhost:8080/"
        },
        "id": "dACPe7gWqubt",
        "outputId": "92193511-8ebb-47fe-b0c4-d48f99adf565"
      },
      "execution_count": null,
      "outputs": [
        {
          "output_type": "stream",
          "name": "stdout",
          "text": [
            "Original lambda expression: λx.(λy.((x)(y)))\n",
            "\n",
            "Alpha-converted lambda expression: λz.(λy.((z)(y)))\n"
          ]
        }
      ]
    },
    {
      "cell_type": "code",
      "source": [
        "if __name__ == \"__main__\":\n",
        "    x = Variable(\"x\")\n",
        "    y = Variable(\"y\")\n",
        "    z = Variable(\"z\")\n",
        "\n",
        "    abs_term1 = Abstraction(z, apply(z, y))\n",
        "    abs_term2 = Abstraction(x, apply(x, y))\n",
        "    abs_term3 = Abstraction(x, apply(z, y))\n",
        "\n",
        "    print(\"Original lambda expressions:\")\n",
        "    print(\"1.\", abs_term1)\n",
        "    print(\"2.\", abs_term2)\n",
        "    print(\"3.\", abs_term3)\n",
        "\n",
        "    print(\"\\nChecking alpha equivalence of 1 and 2:\")\n",
        "    print(\"Alpha equivalent:\", alpha_equivalent(abs_term1, abs_term2))\n",
        "\n",
        "    print(\"\\nChecking alpha equivalence of 2 and 3:\")\n",
        "    print(\"Alpha equivalent:\", alpha_equivalent(abs_term2, abs_term3))"
      ],
      "metadata": {
        "colab": {
          "base_uri": "https://localhost:8080/"
        },
        "id": "4B1a1wenVzn4",
        "outputId": "7d7e76cf-5ca0-4b5a-efc0-08e2f64b1140"
      },
      "execution_count": null,
      "outputs": [
        {
          "output_type": "stream",
          "name": "stdout",
          "text": [
            "Original lambda expressions:\n",
            "1. λz.((z)(y))\n",
            "2. λx.((x)(y))\n",
            "3. λx.((z)(y))\n",
            "\n",
            "Checking alpha equivalence of 1 and 2:\n",
            "Alpha equivalent: True\n",
            "\n",
            "Checking alpha equivalence of 2 and 3:\n",
            "Alpha equivalent: False\n"
          ]
        }
      ]
    },
    {
      "cell_type": "code",
      "source": [
        "if __name__ == \"__main__\":\n",
        "    x = Variable(\"x\")\n",
        "    y = Variable(\"y\")\n",
        "    f = Constant(\"f\")\n",
        "\n",
        "    abs_term = apply(Abstraction(x, apply(f, x)), y)\n",
        "\n",
        "    print(\"Original lambda expression:\", abs_term)\n",
        "\n",
        "    reduced_abs = beta_reduce(abs_term)\n",
        "\n",
        "    print(\"\\nReduced lambda expression:\", reduced_abs)"
      ],
      "metadata": {
        "colab": {
          "base_uri": "https://localhost:8080/"
        },
        "id": "6KWRJSKwQt4I",
        "outputId": "a2e196ec-d457-4dc1-9149-c3801d53d16f"
      },
      "execution_count": null,
      "outputs": [
        {
          "output_type": "stream",
          "name": "stdout",
          "text": [
            "Original lambda expression: (λx.((f)(x)))(y)\n",
            "\n",
            "Reduced lambda expression: (f)(y)\n"
          ]
        }
      ]
    },
    {
      "cell_type": "code",
      "source": [
        "if __name__ == \"__main__\":\n",
        "    x = Variable(\"x\")\n",
        "    y = Variable(\"y\")\n",
        "    f = Constant(\"f\")\n",
        "\n",
        "    abs_term1 = Abstraction(x, Application(f, x))\n",
        "    abs_term2 = Abstraction(x, Application(x, y))\n",
        "    abs_term3 = Abstraction(x, Application(y, x))\n",
        "\n",
        "    reduced_abs1 = eta_reduce(abs_term1)\n",
        "    reduced_abs2 = eta_reduce(abs_term2)\n",
        "    reduced_abs3 = eta_reduce(abs_term3)\n",
        "\n",
        "    print(f\"First lambda expression is: {abs_term1}\\n\" + (f\"The expression is an eta redex.\\nEta Reduced lambda expression is {reduced_abs1}\\n\" if is_eta(abs_term1) else \"The expression is not an eta redex.\\n\"))\n",
        "    print(f\"Second lambda expression is: {abs_term2}\\n\" + (f\"The expression is an eta redex.\\nEta Reduced lambda expression is {reduced_abs2}\\n\" if is_eta(abs_term2) else \"The expression is not an eta redex.\\n\"))\n",
        "    print(f\"Third lambda expression is: {abs_term3}\\n\" + (f\"The expression is an eta redex.\\nEta Reduced lambda expression is {reduced_abs3}\\n\" if is_eta(abs_term3) else \"The expression is not an eta redex.\\n\"))"
      ],
      "metadata": {
        "colab": {
          "base_uri": "https://localhost:8080/"
        },
        "id": "xLbXPeuq7g7a",
        "outputId": "4f94543e-71f0-498a-9c75-8a57a305dd08"
      },
      "execution_count": null,
      "outputs": [
        {
          "output_type": "stream",
          "name": "stdout",
          "text": [
            "First lambda expression is: λx.((f)(x))\n",
            "The expression is an eta redex.\n",
            "Eta Reduced lambda expression is f\n",
            "\n",
            "Second lambda expression is: λx.((x)(y))\n",
            "The expression is not an eta redex.\n",
            "\n",
            "Third lambda expression is: λx.((y)(x))\n",
            "The expression is an eta redex.\n",
            "Eta Reduced lambda expression is y\n",
            "\n"
          ]
        }
      ]
    },
    {
      "cell_type": "code",
      "source": [
        "add = Constant('add')\n",
        "multiply = Constant('multiply')\n",
        "\n",
        "x = Variable('x')\n",
        "y = Variable('y')\n",
        "\n",
        "add_app = Application(add, Application(x, y))\n",
        "multiply_app = Application(multiply, Application(x, y))\n",
        "\n",
        "print(\"Original expression:\", add_app)\n",
        "print(\"Delta reduced summation:\", delta_reduce(add_app), \"\\n\")\n",
        "\n",
        "print(\"Original expression:\", multiply_app)\n",
        "print(\"Delta reduced multiplication:\", delta_reduce(multiply_app))"
      ],
      "metadata": {
        "colab": {
          "base_uri": "https://localhost:8080/"
        },
        "id": "O8aonAD91lYA",
        "outputId": "00edabf7-9778-40c6-a453-62787e272717"
      },
      "execution_count": null,
      "outputs": [
        {
          "output_type": "stream",
          "name": "stdout",
          "text": [
            "Original expression: (add)((x)(y))\n",
            "Delta reduced summation: (+ x y) \n",
            "\n",
            "Original expression: (multiply)((x)(y))\n",
            "Delta reduced multiplication: (* x y)\n"
          ]
        }
      ]
    },
    {
      "cell_type": "code",
      "source": [
        "x = Variable('x')\n",
        "y = Variable('y')\n",
        "f = Variable('f')\n",
        "\n",
        "abs1 = Abstraction(x, Application(f, x))\n",
        "abs2 = Abstraction(y, Application(y, y))\n",
        "app = Application(abs1, abs2)\n",
        "\n",
        "print(\"Original term:\", app)\n",
        "\n",
        "reduced_term = normal_order(app)\n",
        "\n",
        "print(\"Reduced term using normal order reduction:\")\n",
        "print(reduced_term)\n",
        "\n",
        "reduced_term2 = beta_reduce(app)\n",
        "print(\"Reduced term using beta reduction:\")\n",
        "print(reduced_term2)"
      ],
      "metadata": {
        "colab": {
          "base_uri": "https://localhost:8080/"
        },
        "id": "GskOj3gc4vij",
        "outputId": "8a1df670-f8c6-4bb1-f4b9-d336e623a7ed"
      },
      "execution_count": null,
      "outputs": [
        {
          "output_type": "stream",
          "name": "stdout",
          "text": [
            "Original term: (λx.((f)(x)))(λy.((y)(y)))\n",
            "Reduced term using normal order reduction:\n",
            "(f)(λy.((y)(y)))\n",
            "Reduced term using beta reduction:\n",
            "(f)(λy.((y)(y)))\n"
          ]
        }
      ]
    },
    {
      "cell_type": "code",
      "source": [
        "if __name__ == \"__main__\":\n",
        "    x = Variable(\"x\")\n",
        "    y = Variable(\"y\")\n",
        "    f = Variable(\"f\")\n",
        "    abs1 = Abstraction(x, Application(f, x))\n",
        "    abs2 = apply(Abstraction(x, apply(f, x)), y)\n",
        "    abs3 = apply(apply(Abstraction(x, apply(f, x)), y), apply(Abstraction(x, apply(f, x)), y))\n",
        "\n",
        "    print(\"Original lambda expression:\", abs1)\n",
        "    reduced_abs1 = lambda_reduce(abs1)\n",
        "    print(\"Reduced lambda expression:\", reduced_abs1)\n",
        "\n",
        "    print(\"\\nOriginal lambda expression:\", (abs2))\n",
        "    reduced_abs2 = lambda_reduce(abs2)\n",
        "    print(\"Reduced lambda expression:\", reduced_abs2)\n",
        "\n",
        "    print(\"\\nOriginal lambda expression:\", abs3)\n",
        "    reduced_abs3 = lambda_reduce(abs3)\n",
        "    print(\"Reduced lambda expression:\", reduced_abs3)\n"
      ],
      "metadata": {
        "colab": {
          "base_uri": "https://localhost:8080/"
        },
        "id": "4X7tvjllj4m5",
        "outputId": "91ac53da-f5d3-4cad-8989-d4080afa908a"
      },
      "execution_count": null,
      "outputs": [
        {
          "output_type": "stream",
          "name": "stdout",
          "text": [
            "Original lambda expression: λx.((f)(x))\n",
            "Reduced lambda expression: f\n",
            "\n",
            "Original lambda expression: (λx.((f)(x)))(y)\n",
            "Reduced lambda expression: (f)(y)\n",
            "\n",
            "Original lambda expression: ((λx.((f)(x)))(y))((λx.((f)(x)))(y))\n",
            "Reduced lambda expression: ((f)(y))((f)(y))\n"
          ]
        }
      ]
    },
    {
      "cell_type": "code",
      "source": [
        "np = SyntacticType()\n",
        "vp = SyntacticType()\n",
        "s = SyntacticType()\n",
        "\n",
        "np_vp_s_right = np // (vp / s)\n",
        "np_vp_s_left = np // vp / s\n",
        "\n",
        "print(\"Right Operator:\", np_vp_s_right)\n",
        "print(\"Left Operator:\", np_vp_s_left)"
      ],
      "metadata": {
        "colab": {
          "base_uri": "https://localhost:8080/"
        },
        "id": "BB1XmjHvnAz4",
        "outputId": "323d8d8d-839b-4e00-83d8-a95193be29bb"
      },
      "execution_count": null,
      "outputs": [
        {
          "output_type": "stream",
          "name": "stdout",
          "text": [
            "Right Operator: SyntacticType / SyntacticType \\ SyntacticType\n",
            "Left Operator: SyntacticType \\ SyntacticType / SyntacticType\n"
          ]
        }
      ]
    },
    {
      "cell_type": "code",
      "source": [
        "np = PrimitiveSyntacticType(\"NP\")\n",
        "n_sg = PrimitiveSyntacticType(\"N\", [\"sg\"])\n",
        "v = PrimitiveSyntacticType(\"V\")\n",
        "v_pl = v(\"pl\")\n",
        "\n",
        "np_vp_s_right = np / v // n_sg\n",
        "np_vp_s_left = np // v / n_sg\n",
        "\n",
        "print(\"Right Operator:\", np_vp_s_right)\n",
        "print(\"Left Operator:\", np_vp_s_left)\n",
        "\n",
        "print(\"Agreement between Noun and Verb:\", n_sg.agrees_with(v))\n",
        "print(\"Agreement between Noun and Plural Verb:\", n_sg.agrees_with(v_pl))\n",
        "print(\"Agreement between Complex Types:\", np_vp_s_right.agrees_with(np_vp_s_left))\n"
      ],
      "metadata": {
        "colab": {
          "base_uri": "https://localhost:8080/"
        },
        "id": "b-F3oQEyoGwL",
        "outputId": "eebcf638-9fa7-42fc-bcf6-6c6305a6c168"
      },
      "execution_count": null,
      "outputs": [
        {
          "output_type": "stream",
          "name": "stdout",
          "text": [
            "Right Operator: N(sg) \\ NP / V\n",
            "Left Operator: V \\ NP / N(sg)\n",
            "Agreement between Noun and Verb: False\n",
            "Agreement between Noun and Plural Verb: False\n",
            "Agreement between Complex Types: False\n"
          ]
        }
      ]
    },
    {
      "cell_type": "code",
      "source": [
        "p1 = PrimitiveSyntacticType(\"NP\")\n",
        "p2 = PrimitiveSyntacticType(\"N\", [\"sg\"])\n",
        "p3 = PrimitiveSyntacticType(\"V\")\n",
        "\n",
        "c1 = ComplexSyntacticType(p1, p2, Right())\n",
        "c2 = ComplexSyntacticType(p2, p3, Left())\n",
        "\n",
        "x = Variable(\"x\")\n",
        "y = Variable(\"y\")\n",
        "z = Constant(\"z\")\n",
        "\n",
        "abs_term1 = Abstraction(x, Abstraction(y, apply(x, y)))\n",
        "abs_term2 = alpha_convert(abs_term1, z)\n",
        "\n",
        "cat1 = Category(p1, abs_term1)\n",
        "cat2 = Category(p2, abs_term2)\n",
        "\n",
        "print(agrees(p1, p2))\n",
        "print(agrees(c1, c2))\n",
        "print(cat1)\n",
        "print(cat2)\n",
        "print(agrees(cat1, cat2))"
      ],
      "metadata": {
        "colab": {
          "base_uri": "https://localhost:8080/"
        },
        "id": "97uT5vFCoGo2",
        "outputId": "b3cb6ad0-e614-4a84-b8de-0e1ffd8ba6ab"
      },
      "execution_count": null,
      "outputs": [
        {
          "output_type": "stream",
          "name": "stdout",
          "text": [
            "False\n",
            "False\n",
            "Category(NP, λx.(λy.((x)(y))))\n",
            "Category(N(sg), λz.(λy.((z)(y))))\n",
            "False\n"
          ]
        }
      ]
    },
    {
      "cell_type": "code",
      "source": [
        "x = Variable(\"x\")\n",
        "y = Variable(\"y\")\n",
        "f = Constant(\"person\")\n",
        "g = Constant(\"person\")\n",
        "doctor = Constant(\"doctor\")\n",
        "prist = Constant(\"prist\")\n",
        "term = apply(f, x)\n",
        "abs_term = lambda_(x, apply(f, x))\n",
        "\n",
        "N = PrimitiveSyntacticType(\"N\", [])\n",
        "V = PrimitiveSyntacticType(\"V\", [])\n",
        "NP = PrimitiveSyntacticType(\"NP\", [])\n",
        "VP = PrimitiveSyntacticType(\"VP\", [])\n",
        "\n",
        "lf1 = lambda_(x, apply(f, x))\n",
        "lf2 = lambda_(x, apply(g, x))\n",
        "lf3 = lambda_(x, HornClause(apply(doctor, x), apply(g, x)))\n",
        "lf4 = lambda_(x, Conjunction(apply(prist, x), apply(f, x)))\n",
        "\n",
        "entry1 = LexicalEntry.from_syn_type(\"dog\", N, lf1)\n",
        "entry2 = LexicalEntry.from_syn_type(\"run\", V, lf2)\n",
        "entry3 = LexicalEntry.from_syn_type(\"the\", NP // N, lf3)\n",
        "entry4 = LexicalEntry.from_syn_type(\"quickly\", (NP / VP) // NP, lf4)\n",
        "\n",
        "lexical_entries = [entry1, entry2, entry3, entry4]\n",
        "lexicon_instance = Lexicon(lexical_entries)\n",
        "\n",
        "type_shifting_rules_instance = {\n",
        "    \"quickly\": [Category((N / NP) // (N // NP), lf4)],\n",
        "    \"run\": [Category(VP // VP, lf2)]\n",
        "}"
      ],
      "metadata": {
        "id": "KD1kh234S8Se"
      },
      "execution_count": null,
      "outputs": []
    },
    {
      "cell_type": "code",
      "source": [
        "ccg = CombinatoryCategorialGrammar(lexicon_instance, type_shifting_rules_instance)\n",
        "\n",
        "type_shifted_entries = type_shifted_lexical_entries(ccg)"
      ],
      "metadata": {
        "id": "bn5JISTv0GNx"
      },
      "execution_count": null,
      "outputs": []
    },
    {
      "cell_type": "code",
      "source": [
        "print(dir(ccg))"
      ],
      "metadata": {
        "colab": {
          "base_uri": "https://localhost:8080/"
        },
        "id": "xIhfrNR10np8",
        "outputId": "48390c27-e3da-4005-bc0b-8e3b181388a7"
      },
      "execution_count": null,
      "outputs": [
        {
          "output_type": "stream",
          "name": "stdout",
          "text": [
            "['__class__', '__delattr__', '__dict__', '__dir__', '__doc__', '__eq__', '__format__', '__ge__', '__getattribute__', '__gt__', '__hash__', '__init__', '__init_subclass__', '__le__', '__lt__', '__module__', '__ne__', '__new__', '__reduce__', '__reduce_ex__', '__repr__', '__setattr__', '__sizeof__', '__str__', '__subclasshook__', '__weakref__', 'lexicon', 'type_shifting_rules']\n"
          ]
        }
      ]
    },
    {
      "cell_type": "code",
      "source": [
        "print(ccg.type_shifting_rules)"
      ],
      "metadata": {
        "colab": {
          "base_uri": "https://localhost:8080/"
        },
        "id": "xD9Cx1gH0pBT",
        "outputId": "55a0c727-062c-422d-e458-2b0ee805bb6f"
      },
      "execution_count": null,
      "outputs": [
        {
          "output_type": "stream",
          "name": "stdout",
          "text": [
            "{'quickly': [Category(NP \\ N \\ N / NP, λx.((prist)(x) ∧ (person)(x)))], 'run': [Category(VP \\ VP, λx.((person)(x)))]}\n"
          ]
        }
      ]
    },
    {
      "cell_type": "code",
      "source": [
        "print(ccg.lexicon)"
      ],
      "metadata": {
        "colab": {
          "base_uri": "https://localhost:8080/"
        },
        "id": "KT-_cba90dOa",
        "outputId": "7c5cd6e4-841b-456d-8614-8d6ed0b81390"
      },
      "execution_count": null,
      "outputs": [
        {
          "output_type": "stream",
          "name": "stdout",
          "text": [
            "Lexicon entries:\n",
            "LexicalEntry: dog: Category(N, λx.((person)(x)))\n",
            "LexicalEntry: run: Category(V, λx.((person)(x)))\n",
            "LexicalEntry: the: Category(N \\ NP, λx.((doctor)(x) ⟹ (person)(x)))\n",
            "LexicalEntry: quickly: Category(NP \\ NP / VP, λx.((prist)(x) ∧ (person)(x)))\n"
          ]
        }
      ]
    }
  ]
}