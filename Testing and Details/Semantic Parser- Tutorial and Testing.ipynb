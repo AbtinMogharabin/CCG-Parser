{
  "nbformat": 4,
  "nbformat_minor": 0,
  "metadata": {
    "colab": {
      "provenance": [],
      "collapsed_sections": [
        "KhuK8qHyjpYp",
        "_cEsbKeFSYJ8",
        "yS5gotRG9BQV",
        "VDLi5j3a8y5W",
        "4OUg5BRp88Tg",
        "kDf_FNFC1oBR",
        "LbBZnvVscKKi",
        "tleSzMhXjzxK",
        "RWR-cu4SkEDV",
        "LTxPKe1gj17g",
        "RIigKH2-lRAE",
        "YZhw9tgusi7f"
      ]
    },
    "kernelspec": {
      "display_name": "Python 3",
      "name": "python3"
    },
    "language_info": {
      "name": "python"
    }
  },
  "cells": [
    {
      "cell_type": "markdown",
      "source": [
        "# Semantic Parser CGG in Python"
      ],
      "metadata": {
        "id": "TSg5jsbda8WU"
      }
    },
    {
      "cell_type": "markdown",
      "source": [
        "## Utils.py"
      ],
      "metadata": {
        "id": "KhuK8qHyjpYp"
      }
    },
    {
      "cell_type": "code",
      "source": [
        "!pip install symengine"
      ],
      "metadata": {
        "id": "m4iCQQMMYn05",
        "colab": {
          "base_uri": "https://localhost:8080/"
        },
        "outputId": "6874841f-0f32-459c-cae2-5c2e7aa4edd3"
      },
      "execution_count": 110,
      "outputs": [
        {
          "output_type": "stream",
          "name": "stdout",
          "text": [
            "Requirement already satisfied: symengine in /usr/local/lib/python3.10/dist-packages (0.11.0)\n"
          ]
        }
      ]
    },
    {
      "cell_type": "code",
      "source": [
        "# Utils.py\n",
        "\n",
        "def find_first(pred, iterable):\n",
        "    for element in iterable:\n",
        "        if pred(element):\n",
        "            return element\n",
        "    return None\n",
        "\n",
        "def def_builder(names, constructor):\n",
        "    clean_names = [name.split('.')[-1] for name in names]\n",
        "    assignments = [f\"{name} = {constructor(clean_name)}\" for name, clean_name in zip(names, clean_names)]\n",
        "    return \"\\n\".join(assignments)\n"
      ],
      "metadata": {
        "id": "yzEe1p4ua9Pt"
      },
      "execution_count": 111,
      "outputs": []
    },
    {
      "cell_type": "markdown",
      "source": [
        "## LambdaUtils.py"
      ],
      "metadata": {
        "id": "bQI-KtZVAOXz"
      }
    },
    {
      "cell_type": "code",
      "source": [
        "from typing import Union, Set\n",
        "\n",
        "# Types #\n",
        "\n",
        "class LambdaTerm:\n",
        "    pass\n",
        "\n",
        "class Constant(LambdaTerm):\n",
        "    def __init__(self, name):\n",
        "        self.name = name\n",
        "\n",
        "    def __str__(self):\n",
        "        return self.name\n",
        "\n",
        "\n",
        "class Variable(LambdaTerm):\n",
        "    def __init__(self, name):\n",
        "        self.name = name\n",
        "\n",
        "    def __str__(self):\n",
        "        return str(self.name)\n",
        "\n",
        "Identifier = Union[Constant, Variable]\n",
        "\n",
        "class Abstraction(LambdaTerm):\n",
        "    def __init__(self, var, body):\n",
        "        self.var = var\n",
        "        self.body = body\n",
        "\n",
        "    def __str__(self):\n",
        "        return f\"λ{self.var}.({self.body})\"\n",
        "\n",
        "class Application(LambdaTerm):\n",
        "    def __init__(self, operator, operand):\n",
        "        self.operator = operator\n",
        "        self.operand = operand\n",
        "\n",
        "    def __str__(self):\n",
        "        return f\"({self.operator})({self.operand})\"\n",
        "\n",
        "def operator(app: Application):\n",
        "    return app.operator\n",
        "\n",
        "def operand(app: Application):\n",
        "    return app.operand\n",
        "\n",
        "# Construction Sugar and IO #\n",
        "\n",
        "def variable(*names):\n",
        "    return def_builder(names, \"Variable\")\n",
        "\n",
        "def constant(*names):\n",
        "    return def_builder(names, \"Constant\")\n",
        "\n",
        "def lambda_(var, body):\n",
        "    if isinstance(var, Variable):\n",
        "        return Abstraction(var, body)\n",
        "    else:\n",
        "        if isinstance(body, LambdaTerm):\n",
        "            return lambda_(Variable(var), body)\n",
        "        else:\n",
        "            return lambda_(Variable(var), Variable(body))\n",
        "\n",
        "def apply(operator, operand):\n",
        "\n",
        "    if isinstance(operator, LambdaTerm):\n",
        "        if isinstance(operand, LambdaTerm):\n",
        "            return Application(operator, operand)\n",
        "        else:\n",
        "            return operator(Variable(operand))\n",
        "    elif isinstance(operator, Predicate):\n",
        "        if isinstance(operand, LambdaTerm):\n",
        "            return PredicateFormula(predicate, operand)\n",
        "    else:\n",
        "        if isinstance(operand, LambdaTerm):\n",
        "            return apply(Variable(operator),operand)\n",
        "        else:\n",
        "            return apply(Variable(operator),Variable(operand))\n"
      ],
      "metadata": {
        "id": "Fg3H_C9rJxNu"
      },
      "execution_count": 112,
      "outputs": []
    },
    {
      "cell_type": "code",
      "source": [
        "def rename_var(term, frm, to):\n",
        "    if isinstance(term, Identifier):\n",
        "        if term == frm:\n",
        "            return to\n",
        "        else:\n",
        "            return term\n",
        "    elif isinstance(term, Abstraction):\n",
        "        return lambda_(rename_var(term.var, frm, to), rename_var(term.body, frm , to))\n",
        "        # return Abstraction(rename_var(term.var, frm, to), substitute(term.body, frm, to))\n",
        "    elif isinstance(term, PredicateFormula):\n",
        "        return PredicateFormula(rename_var(term.predicate, frm, to), *[rename_var(arg, frm, to) for arg in term.arguments])\n",
        "    elif isinstance(term, Application):\n",
        "        return apply(rename_var(term.operator, frm, to), (rename_var(term.operand, frm, to)))\n",
        "        # return Application(substitute(app.operator, frm, to), substitute(app.operand, frm, to))\n",
        "    elif isinstance(term, Conjunction):\n",
        "        return and_(*(rename_var(t, frm, to) for t in term.conjuncts))\n",
        "    else:\n",
        "        return term\n",
        "\n",
        "\n",
        "def replacement(term, frm, to):\n",
        "\n",
        "    if isinstance(term, Constant):\n",
        "        return term\n",
        "\n",
        "    elif isinstance(term, Variable):\n",
        "        if term == frm:\n",
        "            return to\n",
        "        else:\n",
        "            return term\n",
        "\n",
        "    elif isinstance(term, Abstraction):\n",
        "        if term.var == frm:\n",
        "            return term\n",
        "        elif term.var not in free_vars(to) and frm not in free_vars(term):\n",
        "            return lambda_(term.var, replacement(term.body, frm, to))\n",
        "        else:\n",
        "            new_var = gen_new_var(term, to, frm)\n",
        "            return lambda_(new_var, replacement(rename_var(term.body, term.var, new_var), frm, to))\n",
        "\n",
        "    elif isinstance(term, Application):\n",
        "        return apply(replacement(term.operator, frm, to), (replacement(term.operand, frm, to)))\n",
        "\n",
        "    elif isinstance(term, PredicateFormula):\n",
        "        return PredicateFormula(replacement(term.predicate, frm, to), *[replacement(arg, frm, to) for arg in term.arguments])\n",
        "    elif isinstance(term, Conjunction):\n",
        "        return and_(*(replacement(t, frm, to) for t in term.conjuncts))\n",
        "    else:\n",
        "        return term\n",
        "\n",
        "\n",
        "# beta reduce operator and operand as much as possible\n",
        "def chek_oper_App_or_Abs(operator, operand):\n",
        "\n",
        "    if (isinstance(operator, Application) | isinstance(operand, Application)) == True:\n",
        "\n",
        "          if (isinstance(operator, Application) & isinstance(operand, Application)) == True:\n",
        "              return beta_reduce(operator), beta_reduce(operand)\n",
        "\n",
        "          if isinstance(operator, Application):\n",
        "              operator2 = beta_reduce(operator)\n",
        "          else:\n",
        "              operator2 = operator\n",
        "\n",
        "          if isinstance(operand, Application):\n",
        "              operand2 = beta_reduce(operand)\n",
        "          else:\n",
        "              operand2 = operand\n",
        "\n",
        "          return operator2, operand2\n",
        "    else:\n",
        "        operator2 = operator\n",
        "        operand2 = operand\n",
        "\n",
        "    if ((operator2 == operator) & (operand2 == operand)) == True:\n",
        "        return operator2, operand2\n",
        "    if (isinstance(operator2, Application) | isinstance(operand2, Application)) == True:\n",
        "        chek_oper_App_or_Abs(operator, operand)"
      ],
      "metadata": {
        "id": "IoQlyurRS8pY"
      },
      "execution_count": 113,
      "outputs": []
    },
    {
      "cell_type": "code",
      "source": [
        "class Predicate:\n",
        "    def __init__(self, name):\n",
        "        self.name = Constant(name)\n",
        "\n",
        "    def __str__(self):\n",
        "        return str(self.name)\n",
        "\n",
        "def predicate(*args):\n",
        "    clean_names = [str(name).split('.')[-1] for name in args[:-1]]\n",
        "    arity = args[-1]\n",
        "    for name, clean_name in zip(args[:-1], clean_names):\n",
        "        globals()[clean_name] = Predicate(clean_name)\n",
        "\n",
        "class PredicateFormula(LambdaTerm):\n",
        "    def __init__(self, predicate, *arguments):\n",
        "        self.predicate = predicate\n",
        "        self.arguments = arguments\n",
        "\n",
        "    def __str__(self):\n",
        "        args_str = ' '.join(map(str, self.arguments))\n",
        "        return f\"{self.predicate}({args_str})\""
      ],
      "metadata": {
        "id": "HOA_86Vj9VJk"
      },
      "execution_count": 114,
      "outputs": []
    },
    {
      "cell_type": "code",
      "source": [
        "if __name__ == \"__main__\":\n",
        "    x, y = variable(\"x\", \"y\")\n",
        "    f, g = constant(\"person\", \"apple\")\n",
        "    term = apply(f, x)\n",
        "    abs_term = lambda_(x, apply(f, x))\n",
        "    print(term)\n",
        "    print(abs_term)"
      ],
      "metadata": {
        "id": "TNWmtcFVMbVW",
        "colab": {
          "base_uri": "https://localhost:8080/"
        },
        "outputId": "ca3507f9-1c8d-44e4-987e-c645efe4a886"
      },
      "execution_count": 115,
      "outputs": [
        {
          "output_type": "stream",
          "name": "stdout",
          "text": [
            "(Constant('person'))(Variable('x'))\n",
            "λVariable('x').((Constant('person'))(Variable('x')))\n"
          ]
        }
      ]
    },
    {
      "cell_type": "code",
      "source": [
        "if __name__ == \"__main__\":\n",
        "    x = Variable(\"x\")\n",
        "    f = Constant(\"person\")\n",
        "    term = apply(f, x)\n",
        "    abs_term = lambda_(x, apply(f, x))\n",
        "    print(term)\n",
        "    print(abs_term)"
      ],
      "metadata": {
        "colab": {
          "base_uri": "https://localhost:8080/"
        },
        "id": "Yg9y7lbzk_Xg",
        "outputId": "af7fb2ac-a9e8-4723-8a53-4f72e8a1f159"
      },
      "execution_count": 116,
      "outputs": [
        {
          "output_type": "stream",
          "name": "stdout",
          "text": [
            "(person)(x)\n",
            "λx.((person)(x))\n"
          ]
        }
      ]
    },
    {
      "cell_type": "code",
      "source": [
        "import random\n",
        "import string\n",
        "\n",
        "def gen_new_var(*terms):\n",
        "\n",
        "    unacceptable_vars = set().union(*(free_vars(term) for term in terms)) | set().union(*(bound_vars(term) for term in terms))\n",
        "    n = ''.join(random.choice(string.ascii_letters) for _ in range(50))\n",
        "    while n in unacceptable_vars:\n",
        "        n = ''.join(random.choice(string.ascii_letters) for _ in range(50))\n",
        "    return Variable(n)"
      ],
      "metadata": {
        "id": "UPR60xUE0aNB"
      },
      "execution_count": 117,
      "outputs": []
    },
    {
      "cell_type": "markdown",
      "source": [
        "## ModalLogic.py"
      ],
      "metadata": {
        "id": "tleSzMhXjzxK"
      }
    },
    {
      "cell_type": "code",
      "source": [
        "class Conjunction(LambdaTerm):\n",
        "    def __init__(self, *conjuncts):\n",
        "        self.conjuncts = conjuncts\n",
        "\n",
        "    def __str__(self):\n",
        "        return f\"{' ∧ '.join(map(str, self.conjuncts))}\"\n",
        "\n",
        "def and_(*terms):\n",
        "    flattened = []\n",
        "    for term in terms:\n",
        "        if isinstance(term, Conjunction):\n",
        "            flattened.extend(term.conjuncts)\n",
        "        else:\n",
        "            flattened.append(term)\n",
        "    return Conjunction(*flattened)"
      ],
      "metadata": {
        "id": "KDgCY8QQUNc-"
      },
      "execution_count": 215,
      "outputs": []
    },
    {
      "cell_type": "code",
      "source": [
        "x = Variable('x')\n",
        "y = Variable('y')\n",
        "z = Variable('z')\n",
        "\n",
        "conj = and_(x, y, z)\n",
        "\n",
        "print(conj)"
      ],
      "metadata": {
        "colab": {
          "base_uri": "https://localhost:8080/"
        },
        "id": "avqKWtFxxolo",
        "outputId": "3b256bc1-d103-44fe-cd2f-a0c9bd3fbe13"
      },
      "execution_count": 216,
      "outputs": [
        {
          "output_type": "stream",
          "name": "stdout",
          "text": [
            "x ∧ y ∧ z\n"
          ]
        }
      ]
    },
    {
      "cell_type": "code",
      "source": [
        "Love = Predicate(\"Love\")\n",
        "Person = Predicate(\"Person\")\n",
        "x =  Variable('x')\n",
        "y = Variable('y')\n",
        "z = Variable('z')\n",
        "\n",
        "formula1 = PredicateFormula(Person, x)\n",
        "print(formula1)\n",
        "\n",
        "formula2 = PredicateFormula(Love, x, y)\n",
        "print(formula2)\n",
        "\n",
        "new_formula = rename_var(formula2, x, z)\n",
        "print(new_formula)\n",
        "\n",
        "substituted_formula = replacement(new_formula, y, z)\n",
        "print(substituted_formula)"
      ],
      "metadata": {
        "colab": {
          "base_uri": "https://localhost:8080/"
        },
        "id": "VOk3julYzh8j",
        "outputId": "d1823bc7-5ebc-4e69-f1e8-1a96ee4a250a"
      },
      "execution_count": 217,
      "outputs": [
        {
          "output_type": "stream",
          "name": "stdout",
          "text": [
            "Person(x)\n",
            "Love(x y)\n",
            "Love(z y)\n",
            "Love(z z)\n"
          ]
        }
      ]
    },
    {
      "cell_type": "code",
      "source": [
        "conjunction = Conjunction(PredicateFormula(Person, Variable('x')),\n",
        "                          PredicateFormula(Person, Variable('z')))\n",
        "print(conjunction)"
      ],
      "metadata": {
        "id": "hdBmGvZFUVlz",
        "colab": {
          "base_uri": "https://localhost:8080/"
        },
        "outputId": "e7558f2d-7724-4836-bf32-61834ef93985"
      },
      "execution_count": 218,
      "outputs": [
        {
          "output_type": "stream",
          "name": "stdout",
          "text": [
            "Person(x) ∧ Person(z)\n"
          ]
        }
      ]
    },
    {
      "cell_type": "code",
      "source": [
        "from typing import Union, Tuple, Dict, Set\n",
        "\n",
        "class Term:\n",
        "    pass\n",
        "\n",
        "class Constant2(Term):\n",
        "    def __init__(self, name):\n",
        "        self.name = name\n",
        "\n",
        "    def __str__(self):\n",
        "        return self.name\n",
        "\n",
        "\n",
        "class Variable2(Term):\n",
        "    def __init__(self, name):\n",
        "        self.name = name\n",
        "\n",
        "    def __str__(self):\n",
        "        return str(self.name)\n",
        "\n",
        "Binding = Dict[Variable, Constant]\n",
        "\n",
        "\n",
        "class BinaryPredicate:\n",
        "    def __init__(self, name):\n",
        "        self.name = name\n",
        "\n",
        "    def __str__(self):\n",
        "        return str(self.name)\n",
        "\n",
        "\n",
        "def relation(*names):\n",
        "    return definition_macro_builder(names, BinaryPredicate)\n",
        "\n",
        "# def variable(*names):\n",
        "#     return definition_macro_builder(names, lambda name: f'Variable(\"{name}\")')\n",
        "#\n",
        "# def constant(*names):\n",
        "#     return definition_macro_builder(names, lambda name: f'Constant(\"{name}\")')\n",
        "\n",
        "class Formula:\n",
        "    pass\n",
        "\n",
        "class BinaryPredicateFormula(Formula):\n",
        "    def __init__(self, predicate, arguments):\n",
        "        self.predicate = predicate\n",
        "        self.arguments = arguments\n",
        "\n",
        "    def __str__(self):\n",
        "        return  f\"{self.predicate}({', '.join(map(str, self.arguments))})\"\n",
        "\n",
        "\n",
        "class HornClause:\n",
        "    def __init__(self, *formulas):\n",
        "        self.antecedent = Conjunction(*formulas[:-1])\n",
        "        self.consequent = formulas[-1]\n",
        "\n",
        "    def __str__(self):\n",
        "        return f\"{self.antecedent} ⟹ {self.consequent}\"\n",
        "\n",
        "\n",
        "class ExistentialQuantifier:\n",
        "    def __init__(self, var, formula):\n",
        "        self.var = var\n",
        "        self.formula = formula\n",
        "\n",
        "    def __str__(self):\n",
        "        return f\"∃{self.var}.{self.formula}\"\n",
        "\n",
        "\n",
        "def apply_binding(formula: Union['Constant', 'Variable', 'BinaryPredicateFormula', 'Conjunction'],\n",
        "                  binding: Dict) -> Union['Constant', 'Variable', 'BinaryPredicateFormula', 'Conjunction']:\n",
        "    if isinstance(formula, Constant):\n",
        "        return formula\n",
        "    elif isinstance(formula, Variable):\n",
        "        return binding.get(formula, formula)\n",
        "    elif isinstance(formula, BinaryPredicateFormula):\n",
        "        return BinaryPredicateFormula(formula.predicate, tuple(apply_binding(arg, binding) for arg in formula.arguments))\n",
        "    elif isinstance(formula, Conjunction):\n",
        "        return Conjunction(*(apply_binding(conjunct, binding) for conjunct in formula.conjuncts))\n",
        "    else:\n",
        "        return formula"
      ],
      "metadata": {
        "id": "zyQkTMHAIJNu"
      },
      "execution_count": 247,
      "outputs": []
    },
    {
      "cell_type": "code",
      "source": [
        "if __name__ == \"__main__\":\n",
        "\n",
        "    loves = BinaryPredicate(\"loves\")\n",
        "\n",
        "    x = Variable(\"x\")\n",
        "    y = Variable(\"y\")\n",
        "\n",
        "    prop = BinaryPredicateFormula(loves, (x,y))\n",
        "\n",
        "    print(prop)"
      ],
      "metadata": {
        "colab": {
          "base_uri": "https://localhost:8080/"
        },
        "id": "w-3WC_dkOh80",
        "outputId": "d254f99c-eef8-4f44-c324-2150178e0e61"
      },
      "execution_count": 248,
      "outputs": [
        {
          "output_type": "stream",
          "name": "stdout",
          "text": [
            "loves(x, y)\n"
          ]
        }
      ]
    },
    {
      "cell_type": "code",
      "source": [
        "constant_a = Constant('a')\n",
        "constant_b = Constant('b')\n",
        "variable_x = Variable('x')\n",
        "variable_y = Variable('y')\n",
        "predicate_p = BinaryPredicate('P')\n",
        "predicate_q = BinaryPredicate('Q')\n",
        "formula1 = BinaryPredicateFormula(predicate_p, (constant_a, variable_x))\n",
        "formula2 = BinaryPredicateFormula(predicate_q, (variable_x, constant_b))\n",
        "\n",
        "conjunction = Conjunction(formula1, formula2)\n",
        "\n",
        "binding = {variable_x: constant_a, variable_y: constant_b}\n",
        "\n",
        "conjunction_with_binding = apply_binding(conjunction, binding)\n",
        "\n",
        "print(conjunction_with_binding)"
      ],
      "metadata": {
        "colab": {
          "base_uri": "https://localhost:8080/"
        },
        "id": "mGASEe6vzkJM",
        "outputId": "a7c3ef07-6ef7-4913-ecbe-a0bec20cd9e9"
      },
      "execution_count": 249,
      "outputs": [
        {
          "output_type": "stream",
          "name": "stdout",
          "text": [
            "P(a, a) ∧ Q(a, b)\n"
          ]
        }
      ]
    },
    {
      "cell_type": "code",
      "source": [
        "def test_logic_modules():\n",
        "    P = Predicate(\"P\")\n",
        "    Q = Predicate(\"Q\")\n",
        "    p = PredicateFormula(P, (Variable(\"x\")))\n",
        "    q = PredicateFormula(Q, (Variable(\"y\")))\n",
        "    print(\"Predicate Formula p:\", p)\n",
        "    print(\"Predicate Formula q:\", q)\n",
        "\n",
        "    c1 = Conjunction(p, q)\n",
        "    c2 = Conjunction(q, p)\n",
        "    print(\"Conjunction c1:\", c1)\n",
        "    print(\"Conjunction c2:\", c2)\n",
        "\n",
        "    r = BinaryPredicate(\"R\")\n",
        "    bf1 = BinaryPredicateFormula(r, (Variable(\"x\"), Constant(\"c\")))\n",
        "    bf2 = BinaryPredicateFormula(r, (Constant(\"d\"), Variable(\"y\")))\n",
        "    print(\"Binary Predicate Formula bf1:\", bf1)\n",
        "    print(\"Binary Predicate Formula bf2:\", bf2)\n",
        "\n",
        "    p1 = Variable(\"p1\")\n",
        "    p2 = Variable(\"p2\")\n",
        "    q1 = Variable(\"q1\")\n",
        "    q2 = Variable(\"q2\")\n",
        "\n",
        "    h = HornClause(p1, p2, q1)\n",
        "    print(\"Horn Clause h:\", h)\n",
        "\n",
        "    e = ExistentialQuantifier(Variable(\"x\"), c1)\n",
        "    print(\"Existentially Quantified Statement e:\", e)\n",
        "\n",
        "\n",
        "if __name__ == \"__main__\":\n",
        "    test_logic_modules()"
      ],
      "metadata": {
        "colab": {
          "base_uri": "https://localhost:8080/"
        },
        "id": "H5b9dHZoXD0f",
        "outputId": "65c58e97-363a-4f19-9f6e-12f07c56d403"
      },
      "execution_count": 251,
      "outputs": [
        {
          "output_type": "stream",
          "name": "stdout",
          "text": [
            "Predicate Formula p: P(x)\n",
            "Predicate Formula q: Q(y)\n",
            "Conjunction c1: P(x) ∧ Q(y)\n",
            "Conjunction c2: Q(y) ∧ P(x)\n",
            "Binary Predicate Formula bf1: R(x, c)\n",
            "Binary Predicate Formula bf2: R(d, y)\n",
            "Horn Clause h: p1 ∧ p2 ⟹ q1\n",
            "Existentially Quantified Statement e: ∃x.P(x) ∧ Q(y)\n"
          ]
        }
      ]
    },
    {
      "cell_type": "code",
      "source": [
        "constant_a = Constant('a')\n",
        "constant_b = Constant('b')\n",
        "variable_x = Variable('x')\n",
        "variable_y = Variable('y')\n",
        "predicate_p = BinaryPredicate('P')\n",
        "predicate_q = BinaryPredicate('Q')\n",
        "predicate_r = BinaryPredicate('R')\n",
        "formula1 = BinaryPredicateFormula(predicate_p, (constant_a, variable_x))\n",
        "formula2 = BinaryPredicateFormula(predicate_q, (variable_x, constant_b))\n",
        "formula3 = BinaryPredicateFormula(predicate_r, (variable_y, constant_b))\n",
        "\n",
        "conjunction = Conjunction(formula1, formula2, formula3)\n",
        "\n",
        "horn_clause = HornClause(conjunction, formula3)\n",
        "\n",
        "print(horn_clause)"
      ],
      "metadata": {
        "colab": {
          "base_uri": "https://localhost:8080/"
        },
        "id": "Btuc7sIXw1tl",
        "outputId": "58c45a0a-4619-44d5-ad2a-933dbd975f5c"
      },
      "execution_count": 223,
      "outputs": [
        {
          "output_type": "stream",
          "name": "stdout",
          "text": [
            "P(a, x) ∧ Q(x, b) ∧ R(y, b) ⟹ R(y, b)\n"
          ]
        }
      ]
    },
    {
      "cell_type": "code",
      "source": [
        "class Necessity:\n",
        "    def __init__(self, formula):\n",
        "        self.formula = formula\n",
        "\n",
        "    def __str__(self):\n",
        "        return f\"□ {self.formula}\"\n",
        "\n",
        "class Possibility:\n",
        "    def __init__(self, formula):\n",
        "        self.formula = formula\n",
        "\n",
        "    def __str__(self):\n",
        "        return f\"◇ {self.formula}\"\n",
        "\n",
        "class ModalFormula:\n",
        "    def __init__(self, operator, formula):\n",
        "        self.operator = operator\n",
        "        self.formula = formula\n",
        "\n",
        "    def __str__(self):\n",
        "        return f\"{self.operator}{self.formula}\""
      ],
      "metadata": {
        "id": "f82r4UcJYHBd"
      },
      "execution_count": 224,
      "outputs": []
    },
    {
      "cell_type": "code",
      "source": [
        "def test_logic_modules():\n",
        "    P = BinaryPredicate(\"P\")\n",
        "    p1 = Variable(\"p1\")\n",
        "    p2 = Variable(\"p2\")\n",
        "    q1 = Variable(\"q1\")\n",
        "    q2 = Variable(\"q2\")\n",
        "    p = BinaryPredicateFormula(P, (Variable(\"x\"), Constant(\"a\")))\n",
        "\n",
        "    necessity_p = Necessity(p)\n",
        "    possibility_p1 = Possibility(p1)\n",
        "    modal_formula = ModalFormula(\"◇ \", p2)\n",
        "    print(\"Necessity: \", necessity_p)\n",
        "    print(\"Possibility: \", possibility_p1)\n",
        "    print(\"Modal Formula: \", modal_formula)\n",
        "\n",
        "if __name__ == \"__main__\":\n",
        "    test_logic_modules()"
      ],
      "metadata": {
        "id": "oC3D9N4DYJAv",
        "colab": {
          "base_uri": "https://localhost:8080/"
        },
        "outputId": "1742d844-d742-43cd-b091-7276bd82f645"
      },
      "execution_count": 225,
      "outputs": [
        {
          "output_type": "stream",
          "name": "stdout",
          "text": [
            "Necessity:  □ P(x, a)\n",
            "Possibility:  ◇ p1\n",
            "Modal Formula:  ◇ p2\n"
          ]
        }
      ]
    },
    {
      "cell_type": "code",
      "source": [
        "class Negation:\n",
        "    def __init__(self, formula):\n",
        "        self.formula = formula\n",
        "\n",
        "    def __str__(self):\n",
        "        return f\"¬({self.formula})\"\n",
        "\n",
        "class Disjunction:\n",
        "    def __init__(self, formula1, formula2):\n",
        "        self.formula1 = formula1\n",
        "        self.formula2 = formula2\n",
        "\n",
        "    def __str__(self):\n",
        "        return f\"({self.formula1} ∨ {self.formula2})\"\n",
        "\n",
        "class Biconditional:\n",
        "    def __init__(self, formula1, formula2):\n",
        "        self.formula1 = formula1\n",
        "        self.formula2 = formula2\n",
        "\n",
        "    def __str__(self):\n",
        "        return f\"({self.formula1} ⇔ {self.formula2})\"\n",
        "\n",
        "class UniversalQuantifier:\n",
        "    def __init__(self, variable, formula):\n",
        "        self.variable = variable\n",
        "        self.formula = formula\n",
        "\n",
        "    def __str__(self):\n",
        "        return f\"(∀{self.variable}.{self.formula})\""
      ],
      "metadata": {
        "id": "VVDDP_PMU-lQ"
      },
      "execution_count": 226,
      "outputs": []
    },
    {
      "cell_type": "code",
      "source": [
        "x = Variable(\"x\")\n",
        "y = Variable(\"y\")\n",
        "formula1 = Negation(Conjunction(x, y))\n",
        "formula2 = HornClause(x, Disjunction(y, Negation(x)))\n",
        "print(formula1)\n",
        "print(formula2)"
      ],
      "metadata": {
        "id": "8Xs0FQmMVKJu",
        "colab": {
          "base_uri": "https://localhost:8080/"
        },
        "outputId": "ff55e034-6f08-49a5-cdd1-9f4b4ec68b5b"
      },
      "execution_count": 227,
      "outputs": [
        {
          "output_type": "stream",
          "name": "stdout",
          "text": [
            "¬(x ∧ y)\n",
            "x ⟹ (y ∨ ¬(x))\n"
          ]
        }
      ]
    },
    {
      "cell_type": "markdown",
      "source": [
        "## ClassifyVars.py"
      ],
      "metadata": {
        "id": "_cEsbKeFSYJ8"
      }
    },
    {
      "cell_type": "code",
      "source": [
        "def free_vars(term):\n",
        "    if isinstance(term, Variable):\n",
        "        return {term}\n",
        "\n",
        "    elif isinstance(term, Constant):\n",
        "        return set()\n",
        "\n",
        "    elif isinstance(term, Abstraction):\n",
        "        return free_vars(term.body) - {term.var}\n",
        "\n",
        "    elif isinstance(term, Application):\n",
        "        return set.union(free_vars(term.operator),free_vars(term.operand))\n",
        "\n",
        "    elif isinstance(term, Predicate):\n",
        "        return set()\n",
        "\n",
        "    elif isinstance(term, PredicateFormula):\n",
        "        return set.union(free_vars(term.predicate), *[free_vars(arg) for arg in term.arguments])\n",
        "\n",
        "    elif isinstance(term, Conjunction):\n",
        "        return set.union(free_vars(term.left) , free_vars(term.right))\n",
        "\n",
        "    elif isinstance(term, HornClause):\n",
        "        return set.union(free_vars(term.head), *[free_vars(body) for body in term.body])\n",
        "\n",
        "    elif isinstance(term, ExistentialQuantifier):\n",
        "        return free_vars(term.body) - {term.var}\n",
        "\n",
        "    elif isinstance(term, UniversalQuantifier):\n",
        "        return free_vars(term.body) - {term.var}\n",
        "\n",
        "    elif isinstance(term, Biconditional):\n",
        "        return set.union(free_vars(term.left) , free_vars(term.right))\n",
        "\n",
        "    elif isinstance(term, HornClause):\n",
        "        return set.union(free_vars(term.antecedent) , free_vars(term.consequent))\n",
        "\n",
        "    elif isinstance(term, Disjunction):\n",
        "        return set.union(free_vars(term.left) , free_vars(term.right))\n",
        "\n",
        "    elif isinstance(term, Negation):\n",
        "        return free_vars(term.term)\n",
        "\n",
        "    elif isinstance(term, Necessity):\n",
        "        return free_vars(term.term)\n",
        "\n",
        "    elif isinstance(term, Possibility):\n",
        "        return free_vars(term.term)\n",
        "\n",
        "    else:\n",
        "        return term\n",
        "\n",
        "\n",
        "def bound_vars(term):\n",
        "    if isinstance(term, Identifier):\n",
        "        return set()\n",
        "\n",
        "    elif isinstance(term, Abstraction):\n",
        "        return set.union({term.var} , bound_vars(term.body))\n",
        "\n",
        "    elif isinstance(term, Application):\n",
        "        return set.union(bound_vars(term.operator) , bound_vars(term.operand))\n",
        "\n",
        "    elif isinstance(term, Predicate):\n",
        "        return set()\n",
        "\n",
        "    elif isinstance(term, PredicateFormula):\n",
        "        return set.union(bound_vars(term.predicate), *[bound_vars(arg) for arg in term.arguments])\n",
        "\n",
        "    elif isinstance(term, Conjunction):\n",
        "        return set.union(bound_vars(term.left) , bound_vars(term.right))\n",
        "\n",
        "    elif isinstance(term, HornClause):\n",
        "        return set.union(bound_vars(term.head), *[bound_vars(body) for body in term.body])\n",
        "\n",
        "    elif isinstance(term, ExistentialQuantifier):\n",
        "        return set.union({term.var} , bound_vars(term.body))\n",
        "\n",
        "    elif isinstance(term, UniversalQuantifier):\n",
        "        return set.union({term.var} , bound_vars(term.body))\n",
        "\n",
        "    elif isinstance(term, Biconditional):\n",
        "        return set.union(bound_vars(term.left) , bound_vars(term.right))\n",
        "\n",
        "    elif isinstance(term, HornClause):\n",
        "        return set.union(bound_vars(term.antecedent) , bound_vars(term.consequent))\n",
        "\n",
        "    elif isinstance(term, Disjunction):\n",
        "        return set.union(bound_vars(term.left) , bound_vars(term.right))\n",
        "\n",
        "    elif isinstance(term, Negation):\n",
        "        return bound_vars(term.term)\n",
        "\n",
        "    elif isinstance(term, Necessity):\n",
        "        return bound_vars(term.term)\n",
        "\n",
        "    elif isinstance(term, Possibility):\n",
        "        return bound_vars(term.term)\n",
        "\n",
        "    else:\n",
        "        return term\n",
        "\n",
        "\n",
        "def all_vars(term):\n",
        "    return set.union(free_vars(term) , bound_vars(term))"
      ],
      "metadata": {
        "id": "T1MRdcYtSlUx"
      },
      "execution_count": 274,
      "outputs": []
    },
    {
      "cell_type": "markdown",
      "source": [
        "## LambdaCalculus.py"
      ],
      "metadata": {
        "id": "1pWU8_M0jtAS"
      }
    },
    {
      "cell_type": "markdown",
      "source": [
        "### α-conversion"
      ],
      "metadata": {
        "id": "FgYLFajg9MyA"
      }
    },
    {
      "cell_type": "code",
      "source": [
        "# def alpha_convert(abs, new_var):\n",
        "#     if isinstance(new_var, Variable):\n",
        "#         if (   (new_var not in free_vars(abs)) and (new_var not in bound_vars(abs))   ):\n",
        "#             return rename_var(abs, abs.var, new_var)\n",
        "#         else:\n",
        "#             raise ValueError(f\"Invalid α-conversion: {new_var} is free or bound in {abs}\")\n",
        "#\n",
        "#     else:\n",
        "#       alpha_convert(abs, Variable(new_var))\n",
        "\n",
        "def alpha_convert(abs, new_var):\n",
        "    if isinstance(new_var, Variable):\n",
        "        if new_var not in free_vars(abs) and new_var not in bound_vars(abs):\n",
        "            return rename_var(abs, abs.var, new_var)\n",
        "        else:\n",
        "            raise ValueError(f\"Invalid α-conversion: {new_var} is free or bound in {abs}\")\n",
        "    else:\n",
        "        return alpha_convert(abs, Variable(new_var))"
      ],
      "metadata": {
        "id": "C6kDJVl7q_n8"
      },
      "execution_count": 132,
      "outputs": []
    },
    {
      "cell_type": "code",
      "source": [
        "if __name__ == \"__main__\":\n",
        "    x = Variable(\"x\")\n",
        "    y = Variable(\"y\")\n",
        "    z = Variable(\"z\")\n",
        "    abs_term = Abstraction(x, apply(x, y))\n",
        "\n",
        "    print(\"Original lambda expression:\", abs_term)\n",
        "\n",
        "    new_abs = alpha_convert(abs_term, z)\n",
        "    print(\"\\nAlpha converted lambda expression:\", new_abs)\n",
        "\n",
        "    renamed_abs = rename_var(abs_term, x, z)\n",
        "    print(\"\\nLambda expression after variable renaming:\", renamed_abs)\n",
        "\n",
        "    app = Application(x, y)\n",
        "    renamed_app = rename_var(app, x, z)\n",
        "    print(\"\\nApplication after variable renaming:\", renamed_app)\n"
      ],
      "metadata": {
        "colab": {
          "base_uri": "https://localhost:8080/"
        },
        "id": "s-PaOzIAq_ff",
        "outputId": "bb3a7db1-db24-42f5-e8be-4adf44865813"
      },
      "execution_count": 133,
      "outputs": [
        {
          "output_type": "stream",
          "name": "stdout",
          "text": [
            "Original lambda expression: λx.((x)(y))\n",
            "\n",
            "Alpha converted lambda expression: λz.((z)(y))\n",
            "\n",
            "Lambda expression after variable renaming: λz.((z)(y))\n",
            "\n",
            "Application after variable renaming: (z)(y)\n"
          ]
        }
      ]
    },
    {
      "cell_type": "code",
      "source": [
        "if __name__ == \"__main__\":\n",
        "    x = Variable(\"x\")\n",
        "    y = Variable(\"y\")\n",
        "\n",
        "    abs_term = Abstraction(x, Abstraction(y, apply(x, y)))\n",
        "\n",
        "    print(\"Original lambda expression:\", abs_term)\n",
        "\n",
        "    new_var = Variable(\"z\")\n",
        "    alpha_converted_abs = alpha_convert(abs_term, new_var)\n",
        "\n",
        "    print(\"\\nAlpha-converted lambda expression:\", alpha_converted_abs)"
      ],
      "metadata": {
        "colab": {
          "base_uri": "https://localhost:8080/"
        },
        "id": "dACPe7gWqubt",
        "outputId": "92193511-8ebb-47fe-b0c4-d48f99adf565"
      },
      "execution_count": 134,
      "outputs": [
        {
          "output_type": "stream",
          "name": "stdout",
          "text": [
            "Original lambda expression: λx.(λy.((x)(y)))\n",
            "\n",
            "Alpha-converted lambda expression: λz.(λy.((z)(y)))\n"
          ]
        }
      ]
    },
    {
      "cell_type": "markdown",
      "source": [
        "### α-equivalence"
      ],
      "metadata": {
        "id": "yS5gotRG9BQV"
      }
    },
    {
      "cell_type": "code",
      "source": [
        "def alpha_equivalent(term1, term2):\n",
        "      if isinstance(term1, Identifier) and isinstance(term2, Identifier):\n",
        "          return term1 == term2\n",
        "\n",
        "      elif isinstance(term1, Abstraction) and isinstance(term2, Abstraction):\n",
        "          new_arg = gen_new_var(term1, term2)\n",
        "          return alpha_equivalent((alpha_convert(term1, new_arg)).body, (alpha_convert(term2, new_arg)).body)\n",
        "\n",
        "      elif isinstance(term1, Application) and isinstance(term2, Application):\n",
        "          return alpha_equivalent(term1.operator, term2.operator) & alpha_equivalent(term1.operand, term2.operand)\n",
        "\n",
        "      elif isinstance(term1, Variable) and isinstance(term2, Variable):\n",
        "          stack = [(term1, term2)]\n",
        "          bindings1 = {}\n",
        "          bindings2 = {}\n",
        "          if term1 in bindings1 and term2 in bindings2:\n",
        "              if bindings1[term1] != bindings2[term2]:\n",
        "                  return True\n",
        "          else:\n",
        "              if term1.name != term2.name:\n",
        "                  return False\n",
        "\n",
        "      elif isinstance(term1, Predicate) and isinstance(term2, Predicate):\n",
        "          return term1 == term2\n",
        "\n",
        "      elif isinstance(term1, PredicateFormula) and isinstance(term2, PredicateFormula):\n",
        "          if len(term1.arguments) == len(term2.arguments) and term1.predicate== term2.predicate:\n",
        "              return all(alpha_equivalent(parg, qarg) for parg, qarg in zip(term1.arguments, term2.arguments))\n",
        "\n",
        "      elif isinstance(term1, Conjunction) and isinstance(term2, Conjunction):\n",
        "          if len(term1.conjuncts) != len(term2.conjuncts):\n",
        "              return False\n",
        "          else:\n",
        "              return all(any(alpha_equivalent(s, t) for t in term2.conjuncts) for s in term1.conjuncts) \\\n",
        "                    and all(any(alpha_equivalent(s, t) for t in term1.conjuncts) for s in term2.conjuncts)\n",
        "      else:\n",
        "            return False"
      ],
      "metadata": {
        "id": "o6WWUzOz3FfN"
      },
      "execution_count": 135,
      "outputs": []
    },
    {
      "cell_type": "code",
      "source": [
        "if __name__ == \"__main__\":\n",
        "    x = Variable(\"x\")\n",
        "    y = Variable(\"y\")\n",
        "    z = Variable(\"z\")\n",
        "\n",
        "    abs_term1 = Abstraction(z, apply(z, y))\n",
        "    abs_term2 = Abstraction(x, apply(x, y))\n",
        "    abs_term3 = Abstraction(x, apply(z, y))\n",
        "\n",
        "    print(\"Original lambda expressions:\")\n",
        "    print(\"1.\", abs_term1)\n",
        "    print(\"2.\", abs_term2)\n",
        "    print(\"3.\", abs_term3)\n",
        "\n",
        "    print(\"\\nChecking alpha equivalence of 1 and 2:\")\n",
        "    print(\"Alpha equivalent:\", alpha_equivalent(abs_term1, abs_term2))\n",
        "\n",
        "    print(\"\\nChecking alpha equivalence of 2 and 3:\")\n",
        "    print(\"Alpha equivalent:\", alpha_equivalent(abs_term2, abs_term3))"
      ],
      "metadata": {
        "colab": {
          "base_uri": "https://localhost:8080/"
        },
        "id": "4B1a1wenVzn4",
        "outputId": "7d7e76cf-5ca0-4b5a-efc0-08e2f64b1140"
      },
      "execution_count": 136,
      "outputs": [
        {
          "output_type": "stream",
          "name": "stdout",
          "text": [
            "Original lambda expressions:\n",
            "1. λz.((z)(y))\n",
            "2. λx.((x)(y))\n",
            "3. λx.((z)(y))\n",
            "\n",
            "Checking alpha equivalence of 1 and 2:\n",
            "Alpha equivalent: True\n",
            "\n",
            "Checking alpha equivalence of 2 and 3:\n",
            "Alpha equivalent: False\n"
          ]
        }
      ]
    },
    {
      "cell_type": "markdown",
      "source": [
        "### β-reduction"
      ],
      "metadata": {
        "id": "VDLi5j3a8y5W"
      }
    },
    {
      "cell_type": "code",
      "source": [
        "def beta_reduce(term):\n",
        "    if isinstance(term, Application) and isinstance(term.operator, Abstraction):\n",
        "        return replacement(term.operator.body, term.operator.var, term.operand)\n",
        "    else:\n",
        "        return term"
      ],
      "metadata": {
        "id": "A1SmzIBmKK4D"
      },
      "execution_count": 137,
      "outputs": []
    },
    {
      "cell_type": "code",
      "source": [
        "if __name__ == \"__main__\":\n",
        "    x = Variable(\"x\")\n",
        "    y = Variable(\"y\")\n",
        "    f = Constant(\"f\")\n",
        "\n",
        "    abs_term = apply(Abstraction(x, apply(f, x)), y)\n",
        "\n",
        "    print(\"Original lambda expression:\", abs_term)\n",
        "\n",
        "    reduced_abs = beta_reduce(abs_term)\n",
        "\n",
        "    print(\"\\nReduced lambda expression:\", reduced_abs)"
      ],
      "metadata": {
        "colab": {
          "base_uri": "https://localhost:8080/"
        },
        "id": "6KWRJSKwQt4I",
        "outputId": "a2e196ec-d457-4dc1-9149-c3801d53d16f"
      },
      "execution_count": 138,
      "outputs": [
        {
          "output_type": "stream",
          "name": "stdout",
          "text": [
            "Original lambda expression: (λx.((f)(x)))(y)\n",
            "\n",
            "Reduced lambda expression: (f)(y)\n"
          ]
        }
      ]
    },
    {
      "cell_type": "markdown",
      "source": [
        "### η-reduction"
      ],
      "metadata": {
        "id": "4OUg5BRp88Tg"
      }
    },
    {
      "cell_type": "code",
      "source": [
        "def is_eta(abs):\n",
        "    return isinstance(abs.body, Application) and abs.body.operand == abs.var\n",
        "\n",
        "def eta_reduce(abs):\n",
        "    if is_eta(abs):\n",
        "        return abs.body.operator\n",
        "    else:\n",
        "        return abs"
      ],
      "metadata": {
        "id": "yej8RHw07hDf"
      },
      "execution_count": 139,
      "outputs": []
    },
    {
      "cell_type": "code",
      "source": [
        "if __name__ == \"__main__\":\n",
        "    x = Variable(\"x\")\n",
        "    y = Variable(\"y\")\n",
        "    f = Constant(\"f\")\n",
        "\n",
        "    abs_term1 = Abstraction(x, Application(f, x))\n",
        "    abs_term2 = Abstraction(x, Application(x, y))\n",
        "    abs_term3 = Abstraction(x, Application(y, x))\n",
        "\n",
        "    reduced_abs1 = eta_reduce(abs_term1)\n",
        "    reduced_abs2 = eta_reduce(abs_term2)\n",
        "    reduced_abs3 = eta_reduce(abs_term3)\n",
        "\n",
        "    print(f\"First lambda expression is: {abs_term1}\\n\" + (f\"The expression is an eta redex.\\nEta Reduced lambda expression is {reduced_abs1}\\n\" if is_eta(abs_term1) else \"The expression is not an eta redex.\\n\"))\n",
        "    print(f\"Second lambda expression is: {abs_term2}\\n\" + (f\"The expression is an eta redex.\\nEta Reduced lambda expression is {reduced_abs2}\\n\" if is_eta(abs_term2) else \"The expression is not an eta redex.\\n\"))\n",
        "    print(f\"Third lambda expression is: {abs_term3}\\n\" + (f\"The expression is an eta redex.\\nEta Reduced lambda expression is {reduced_abs3}\\n\" if is_eta(abs_term3) else \"The expression is not an eta redex.\\n\"))"
      ],
      "metadata": {
        "colab": {
          "base_uri": "https://localhost:8080/"
        },
        "id": "xLbXPeuq7g7a",
        "outputId": "4f94543e-71f0-498a-9c75-8a57a305dd08"
      },
      "execution_count": 140,
      "outputs": [
        {
          "output_type": "stream",
          "name": "stdout",
          "text": [
            "First lambda expression is: λx.((f)(x))\n",
            "The expression is an eta redex.\n",
            "Eta Reduced lambda expression is f\n",
            "\n",
            "Second lambda expression is: λx.((x)(y))\n",
            "The expression is not an eta redex.\n",
            "\n",
            "Third lambda expression is: λx.((y)(x))\n",
            "The expression is an eta redex.\n",
            "Eta Reduced lambda expression is y\n",
            "\n"
          ]
        }
      ]
    },
    {
      "cell_type": "markdown",
      "source": [
        "### δ-reduction"
      ],
      "metadata": {
        "id": "kDf_FNFC1oBR"
      }
    },
    {
      "cell_type": "code",
      "source": [
        "def delta_reduce(term):\n",
        "    if isinstance(term, Application) and isinstance(term.operator, Constant):\n",
        "        constant = term.operator\n",
        "        if constant.name == 'add':\n",
        "            return Constant('(+ ' + str(term.operand.operator) + ' ' + str(term.operand.operand) + ')')\n",
        "        elif constant.name == 'multiply':\n",
        "            return Constant('(* ' + str(term.operand.operator) + ' ' + str(term.operand.operand) + ')')\n",
        "        else:\n",
        "            return term\n",
        "    else:\n",
        "        return term"
      ],
      "metadata": {
        "id": "Kqdy7DdC1nx-"
      },
      "execution_count": 141,
      "outputs": []
    },
    {
      "cell_type": "code",
      "source": [
        "add = Constant('add')\n",
        "multiply = Constant('multiply')\n",
        "\n",
        "x = Variable('x')\n",
        "y = Variable('y')\n",
        "\n",
        "add_app = Application(add, Application(x, y))\n",
        "multiply_app = Application(multiply, Application(x, y))\n",
        "\n",
        "print(\"Original expression:\", add_app)\n",
        "print(\"Delta reduced summation:\", delta_reduce(add_app), \"\\n\")\n",
        "\n",
        "print(\"Original expression:\", multiply_app)\n",
        "print(\"Delta reduced multiplication:\", delta_reduce(multiply_app))"
      ],
      "metadata": {
        "colab": {
          "base_uri": "https://localhost:8080/"
        },
        "id": "O8aonAD91lYA",
        "outputId": "00edabf7-9778-40c6-a453-62787e272717"
      },
      "execution_count": 142,
      "outputs": [
        {
          "output_type": "stream",
          "name": "stdout",
          "text": [
            "Original expression: (add)((x)(y))\n",
            "Delta reduced summation: (+ x y) \n",
            "\n",
            "Original expression: (multiply)((x)(y))\n",
            "Delta reduced multiplication: (* x y)\n"
          ]
        }
      ]
    },
    {
      "cell_type": "markdown",
      "source": [
        "### Normal Order"
      ],
      "metadata": {
        "id": "LbBZnvVscKKi"
      }
    },
    {
      "cell_type": "code",
      "source": [
        "def normal_order(term):\n",
        "    if isinstance(term, Application):\n",
        "        operator = normal_order(term.operator)\n",
        "        if isinstance(operator, Abstraction):\n",
        "            operand = normal_order(term.operand)\n",
        "            return normal_order(replacement(operator.body, operator.var, operand))\n",
        "        else:\n",
        "            return Application(operator, normal_order(term.operand))\n",
        "    elif isinstance(term, Abstraction):\n",
        "        return Abstraction(term.var, normal_order(term.body))\n",
        "    else:\n",
        "        return term"
      ],
      "metadata": {
        "id": "qxbngSw7lt7F"
      },
      "execution_count": 143,
      "outputs": []
    },
    {
      "cell_type": "code",
      "source": [
        "x = Variable('x')\n",
        "y = Variable('y')\n",
        "f = Variable('f')\n",
        "\n",
        "abs1 = Abstraction(x, Application(f, x))\n",
        "abs2 = Abstraction(y, Application(y, y))\n",
        "app = Application(abs1, abs2)\n",
        "\n",
        "print(\"Original term:\", app)\n",
        "\n",
        "reduced_term = normal_order(app)\n",
        "\n",
        "print(\"Reduced term using normal order reduction:\")\n",
        "print(reduced_term)\n",
        "\n",
        "reduced_term2 = beta_reduce(app)\n",
        "print(\"Reduced term using beta reduction:\")\n",
        "print(reduced_term2)"
      ],
      "metadata": {
        "colab": {
          "base_uri": "https://localhost:8080/"
        },
        "id": "GskOj3gc4vij",
        "outputId": "8a1df670-f8c6-4bb1-f4b9-d336e623a7ed"
      },
      "execution_count": 144,
      "outputs": [
        {
          "output_type": "stream",
          "name": "stdout",
          "text": [
            "Original term: (λx.((f)(x)))(λy.((y)(y)))\n",
            "Reduced term using normal order reduction:\n",
            "(f)(λy.((y)(y)))\n",
            "Reduced term using beta reduction:\n",
            "(f)(λy.((y)(y)))\n"
          ]
        }
      ]
    },
    {
      "cell_type": "code",
      "source": [
        "x = Variable(\"x\")\n",
        "y = Variable(\"y\")\n",
        "z = Variable(\"z\")\n",
        "\n",
        "lambda_expr = Application(\n",
        "    Abstraction(x, Abstraction(y, Application(x, y))),\n",
        "    Abstraction(z, Application(z, z))\n",
        ")\n",
        "\n",
        "normal_order_reduced = normal_order(lambda_expr)\n",
        "print(\"Reduced term using normal order reduction:\")\n",
        "print(normal_order_reduced)\n",
        "\n",
        "beta_reduced = beta_reduce(lambda_expr)\n",
        "print(\"\\nReduced term using beta reduction:\")\n",
        "print(beta_reduced)"
      ],
      "metadata": {
        "colab": {
          "base_uri": "https://localhost:8080/"
        },
        "id": "lCmBBWHG7L7b",
        "outputId": "cb2ba7c6-5c37-4995-bdc0-f3595ccadacd"
      },
      "execution_count": 145,
      "outputs": [
        {
          "output_type": "stream",
          "name": "stdout",
          "text": [
            "Reduced term using normal order reduction:\n",
            "λKSlINMhoOqXkgqIjfAtQALHcMqPnKdIONXcAImHEdWNGwLeXmg.((KSlINMhoOqXkgqIjfAtQALHcMqPnKdIONXcAImHEdWNGwLeXmg)(KSlINMhoOqXkgqIjfAtQALHcMqPnKdIONXcAImHEdWNGwLeXmg))\n",
            "\n",
            "Reduced term using beta reduction:\n",
            "λCLzQkDqrUDIahOAcXzHlplyGgNarezZfJRGFpetQaFCOKZLRez.((λz.((z)(z)))(CLzQkDqrUDIahOAcXzHlplyGgNarezZfJRGFpetQaFCOKZLRez))\n"
          ]
        }
      ]
    },
    {
      "cell_type": "markdown",
      "source": [
        "### Misc."
      ],
      "metadata": {
        "id": "5ymcL7XOjyWG"
      }
    },
    {
      "cell_type": "code",
      "source": [
        "def lambda_reduce(term, prev_term=None):\n",
        "    if prev_term is not None and term == prev_term:\n",
        "        return term\n",
        "\n",
        "    if isinstance(term, Application):\n",
        "        new_operator = term.operator\n",
        "        new_operand = term.operand\n",
        "        new_operator, new_operand = chek_oper_App_or_Abs(new_operator, new_operand)\n",
        "\n",
        "        return beta_reduce(apply(new_operator, new_operand))\n",
        "\n",
        "\n",
        "    elif isinstance(term, Abstraction):\n",
        "        if alpha_equivalent(term, prev_term):\n",
        "            return term\n",
        "        else:\n",
        "            simplified = eta_reduce(term)\n",
        "            if isinstance(simplified, Abstraction):\n",
        "                return lambda_reduce(lambda_(simplified.var, lambda_reduce(simplified.body)), term)\n",
        "                # return lambda_reduce(Abstraction(simplified.var, lambda_reduce(simplified.body)), term)\n",
        "            else:\n",
        "                return lambda_reduce(simplified)\n",
        "\n",
        "            # simplified_args = [lambda_reduce(arg) for arg in term.arguments]\n",
        "            # return lambda_reduce(apply(term.predicate, *simplified_args), term)\n",
        "\n",
        "    elif isinstance(term, PredicateFormula):\n",
        "        if alpha_equivalent(term, prev_term):\n",
        "            term\n",
        "        else:\n",
        "            simplified_args = [lambda_reduce(arg) for arg in term.arguments]\n",
        "            return lambda_reduce(term.predicate(*simplified_args), term)\n",
        "\n",
        "    elif isinstance(term, Conjunction):\n",
        "        simplified_conjs = [lambda_reduce(t) for t in term.conjuncts]\n",
        "        return Conjunction(*simplified_conjs)\n",
        "\n",
        "    else:\n",
        "        return term\n",
        "\n",
        "def compose(f, g):\n",
        "    new_var = gen_new_var(f, g)\n",
        "    return Abstraction(new_var, lambda_reduce(apply(f(g(new_var)))))\n",
        "\n",
        "def final_rename(term):\n",
        "    term_vars = all_vars(term)\n",
        "    nice_vars = set(Variable('a' + str(i)) for i in range(26)) - term_vars\n",
        "    for v in filter(lambda v: str(v).startswith('#'), term_vars):\n",
        "        term = rename_var(term, v, nice_vars.pop())\n",
        "    return term"
      ],
      "metadata": {
        "id": "cR3s5GhPj45g"
      },
      "execution_count": 146,
      "outputs": []
    },
    {
      "cell_type": "code",
      "source": [
        "if __name__ == \"__main__\":\n",
        "    x = Variable(\"x\")\n",
        "    y = Variable(\"y\")\n",
        "    f = Variable(\"f\")\n",
        "    abs1 = Abstraction(x, Application(f, x))\n",
        "    abs2 = apply(Abstraction(x, apply(f, x)), y)\n",
        "    abs3 = apply(apply(Abstraction(x, apply(f, x)), y), apply(Abstraction(x, apply(f, x)), y))\n",
        "\n",
        "    print(\"Original lambda expression:\", abs1)\n",
        "    reduced_abs1 = lambda_reduce(abs1)\n",
        "    print(\"Reduced lambda expression:\", reduced_abs1)\n",
        "\n",
        "    print(\"\\nOriginal lambda expression:\", (abs2))\n",
        "    reduced_abs2 = lambda_reduce(abs2)\n",
        "    print(\"Reduced lambda expression:\", reduced_abs2)\n",
        "\n",
        "    print(\"\\nOriginal lambda expression:\", abs3)\n",
        "    reduced_abs3 = lambda_reduce(abs3)\n",
        "    print(\"Reduced lambda expression:\", reduced_abs3)\n"
      ],
      "metadata": {
        "colab": {
          "base_uri": "https://localhost:8080/"
        },
        "id": "4X7tvjllj4m5",
        "outputId": "91ac53da-f5d3-4cad-8989-d4080afa908a"
      },
      "execution_count": 147,
      "outputs": [
        {
          "output_type": "stream",
          "name": "stdout",
          "text": [
            "Original lambda expression: λx.((f)(x))\n",
            "Reduced lambda expression: f\n",
            "\n",
            "Original lambda expression: (λx.((f)(x)))(y)\n",
            "Reduced lambda expression: (f)(y)\n",
            "\n",
            "Original lambda expression: ((λx.((f)(x)))(y))((λx.((f)(x)))(y))\n",
            "Reduced lambda expression: ((f)(y))((f)(y))\n"
          ]
        }
      ]
    },
    {
      "cell_type": "markdown",
      "source": [
        "## CCGs"
      ],
      "metadata": {
        "id": "MBb4dYGqj-6O"
      }
    },
    {
      "cell_type": "code",
      "source": [
        "from typing import Union, List\n",
        "\n",
        "class Direction:\n",
        "    pass\n",
        "\n",
        "class Right(Direction):\n",
        "    pass\n",
        "\n",
        "class Left(Direction):\n",
        "    pass\n",
        "\n",
        "class SyntacticType:\n",
        "    def __str__(self):\n",
        "        return self.__class__.__name__\n",
        "\n",
        "    def __truediv__(self, other: 'SyntacticType'):\n",
        "        return ComplexSyntacticType(self, other, Right())\n",
        "\n",
        "    def __floordiv__(self, other: 'SyntacticType'):\n",
        "        return ComplexSyntacticType(other, self, Left())\n",
        "\n",
        "    def agrees_with(self, other):\n",
        "        return False\n",
        "\n",
        "class ComplexSyntacticType(SyntacticType):\n",
        "    def __init__(self, res: SyntacticType, arg: SyntacticType, direction: Direction):\n",
        "        self.res = res\n",
        "        self.arg = arg\n",
        "        self.direction = direction\n",
        "\n",
        "    def __str__(self):\n",
        "        direction = '/' if isinstance(self.direction, Right) else '\\\\'\n",
        "        return f\"{self.res} {direction} {self.arg}\"\n",
        "\n",
        "    def agrees_with(self, other):\n",
        "        if isinstance(other, ComplexSyntacticType):\n",
        "            return (self.direction == other.direction and\n",
        "                    self.res.agrees_with(other.res) and\n",
        "                    self.arg.agrees_with(other.arg))\n",
        "        elif isinstance(other, PrimitiveSyntacticType):\n",
        "            return False"
      ],
      "metadata": {
        "id": "CpWwrCBSlAkk"
      },
      "execution_count": 252,
      "outputs": []
    },
    {
      "cell_type": "code",
      "source": [
        "np = SyntacticType()\n",
        "vp = SyntacticType()\n",
        "s = SyntacticType()\n",
        "\n",
        "np_vp_s_right = np // (vp / s)\n",
        "np_vp_s_left = np // vp / s\n",
        "\n",
        "print(\"Right Operator:\", np_vp_s_right)\n",
        "print(\"Left Operator:\", np_vp_s_left)"
      ],
      "metadata": {
        "colab": {
          "base_uri": "https://localhost:8080/"
        },
        "id": "BB1XmjHvnAz4",
        "outputId": "323d8d8d-839b-4e00-83d8-a95193be29bb"
      },
      "execution_count": 253,
      "outputs": [
        {
          "output_type": "stream",
          "name": "stdout",
          "text": [
            "Right Operator: SyntacticType / SyntacticType \\ SyntacticType\n",
            "Left Operator: SyntacticType \\ SyntacticType / SyntacticType\n"
          ]
        }
      ]
    },
    {
      "cell_type": "code",
      "source": [
        "class PrimitiveSyntacticType(SyntacticType):\n",
        "    def __init__(self, name: str, features: List[str] = None):\n",
        "        self.name = name\n",
        "        self.features = features or []\n",
        "\n",
        "    def agrees_with(self, other):\n",
        "        if isinstance(other, PrimitiveSyntacticType):\n",
        "            return self.name == other.name and all(feature in other.features for feature in self.features)\n",
        "        return False\n",
        "\n",
        "    def __call__(self, *features_: str):\n",
        "        return PrimitiveSyntacticType(self.name, self.features + list(features_))\n",
        "\n",
        "    def __str__(self):\n",
        "        if self.features:\n",
        "            return f\"{self.name}({','.join(self.features)})\"\n",
        "        return self.name"
      ],
      "metadata": {
        "id": "F4_OBDAJoGzh"
      },
      "execution_count": 254,
      "outputs": []
    },
    {
      "cell_type": "code",
      "source": [
        "np = PrimitiveSyntacticType(\"NP\")\n",
        "n_sg = PrimitiveSyntacticType(\"N\", [\"sg\"])\n",
        "v = PrimitiveSyntacticType(\"V\")\n",
        "v_pl = v(\"pl\")\n",
        "\n",
        "np_vp_s_right = np / v // n_sg\n",
        "np_vp_s_left = np // v / n_sg\n",
        "\n",
        "print(\"Right Operator:\", np_vp_s_right)\n",
        "print(\"Left Operator:\", np_vp_s_left)\n",
        "\n",
        "print(\"Agreement between Noun and Verb:\", n_sg.agrees_with(v))\n",
        "print(\"Agreement between Noun and Plural Verb:\", n_sg.agrees_with(v_pl))\n",
        "print(\"Agreement between Complex Types:\", np_vp_s_right.agrees_with(np_vp_s_left))\n"
      ],
      "metadata": {
        "colab": {
          "base_uri": "https://localhost:8080/"
        },
        "id": "b-F3oQEyoGwL",
        "outputId": "eebcf638-9fa7-42fc-bcf6-6c6305a6c168"
      },
      "execution_count": 255,
      "outputs": [
        {
          "output_type": "stream",
          "name": "stdout",
          "text": [
            "Right Operator: N(sg) \\ NP / V\n",
            "Left Operator: V \\ NP / N(sg)\n",
            "Agreement between Noun and Verb: False\n",
            "Agreement between Noun and Plural Verb: False\n",
            "Agreement between Complex Types: False\n"
          ]
        }
      ]
    },
    {
      "cell_type": "code",
      "source": [
        "class Category:\n",
        "    def __init__(self, syntactic_type:SyntacticType, logical_form:LambdaTerm):\n",
        "        self.syntactic_type = syntactic_type\n",
        "        self.logical_form = logical_form\n",
        "\n",
        "    def __repr__(self):\n",
        "        return f\"Category({self.syntactic_type}, {self.logical_form})\"\n",
        "\n",
        "def agrees(p, q):\n",
        "    if isinstance(p, PrimitiveSyntacticType) and isinstance(q, PrimitiveSyntacticType):\n",
        "        return p.name == q.name and all(feature in q.features for feature in p.features)\n",
        "    elif isinstance(p, PrimitiveSyntacticType) and isinstance(q, ComplexSyntacticType):\n",
        "        return False\n",
        "    elif isinstance(p, ComplexSyntacticType) and isinstance(q, PrimitiveSyntacticType):\n",
        "        return False\n",
        "    elif isinstance(p, ComplexSyntacticType) and isinstance(q, ComplexSyntacticType):\n",
        "        return (p.direction == q.direction and\n",
        "                p.res.agrees_with(q.res) and\n",
        "                p.arg.agrees_with(q.arg))\n",
        "    elif isinstance(c1, Category) and isinstance(c2, Category):\n",
        "        return (agrees(c1.syntactic_type, c2.syntactic_type) and\n",
        "                lambda_reduce(c1.logical_form) == lambda_reduce(c2.logical_form))\n",
        "    elif isinstance(c1, Category) and isinstance(c2, ComplexSyntacticType):\n",
        "        return False\n",
        "    elif isinstance(c1, ComplexSyntacticType) and isinstance(c2, Category):\n",
        "        return False\n",
        "    else:\n",
        "        return False"
      ],
      "metadata": {
        "id": "KIM2Yfc4oGtQ"
      },
      "execution_count": 256,
      "outputs": []
    },
    {
      "cell_type": "code",
      "source": [
        "def primitive_syntactic_type(*names):\n",
        "    def constructor(name):\n",
        "        return PrimitiveSyntacticType(name, [])\n",
        "\n",
        "    def def_builder2(names, constructor):\n",
        "        clean_names = [name.split(\".\")[-1] for name in names]\n",
        "        return [\n",
        "            constructor(clean_name)\n",
        "            for name, clean_name in zip(names, clean_names)\n",
        "        ]\n",
        "\n",
        "    return def_builder2(names, constructor)"
      ],
      "metadata": {
        "id": "XRBGUY50vKOp"
      },
      "execution_count": 257,
      "outputs": []
    },
    {
      "cell_type": "code",
      "source": [
        "if __name__ == \"__main__\":\n",
        "    types = primitive_syntactic_type(\"NP\", \"VP\", \"N\", \"V\")\n",
        "    for t in types:\n",
        "        print(t)"
      ],
      "metadata": {
        "colab": {
          "base_uri": "https://localhost:8080/"
        },
        "id": "SxJr_jY4PsX5",
        "outputId": "8156f4b8-8df0-4dcf-ad3d-5d6832d2d83d"
      },
      "execution_count": 258,
      "outputs": [
        {
          "output_type": "stream",
          "name": "stdout",
          "text": [
            "NP\n",
            "VP\n",
            "N\n",
            "V\n"
          ]
        }
      ]
    },
    {
      "cell_type": "code",
      "source": [
        "p1 = PrimitiveSyntacticType(\"NP\")\n",
        "p2 = PrimitiveSyntacticType(\"N\", [\"sg\"])\n",
        "p3 = PrimitiveSyntacticType(\"V\")\n",
        "\n",
        "c1 = ComplexSyntacticType(p1, p2, Right())\n",
        "c2 = ComplexSyntacticType(p2, p3, Left())\n",
        "\n",
        "x = Variable(\"x\")\n",
        "y = Variable(\"y\")\n",
        "z = Constant(\"z\")\n",
        "\n",
        "abs_term1 = Abstraction(x, Abstraction(y, apply(x, y)))\n",
        "abs_term2 = alpha_convert(abs_term1, z)\n",
        "\n",
        "cat1 = Category(p1, abs_term1)\n",
        "cat2 = Category(p2, abs_term2)\n",
        "\n",
        "print(agrees(p1, p2))\n",
        "print(agrees(c1, c2))\n",
        "print(cat1)\n",
        "print(cat2)\n",
        "print(agrees(cat1, cat2))"
      ],
      "metadata": {
        "colab": {
          "base_uri": "https://localhost:8080/"
        },
        "id": "97uT5vFCoGo2",
        "outputId": "b3cb6ad0-e614-4a84-b8de-0e1ffd8ba6ab"
      },
      "execution_count": 259,
      "outputs": [
        {
          "output_type": "stream",
          "name": "stdout",
          "text": [
            "False\n",
            "False\n",
            "Category(NP, λx.(λy.((x)(y))))\n",
            "Category(N(sg), λz.(λy.((z)(y))))\n",
            "False\n"
          ]
        }
      ]
    },
    {
      "cell_type": "code",
      "source": [
        "class LexicalEntry:\n",
        "    def __init__(self, lexeme, cat):\n",
        "        self.lexeme = lexeme\n",
        "        self.cat = cat\n",
        "\n",
        "def LexicalEntry(lexeme, syn_type, lf):\n",
        "    return LexicalEntry(lexeme, Category(syn_type, lf))\n",
        "\n",
        "def lexeme(lexical_entry):\n",
        "    return lexical_entry.lexeme\n",
        "\n",
        "def category(lexical_entry):\n",
        "    return lexical_entry.cat\n",
        "\n",
        "class Lexicon:\n",
        "    def __init__(self, lexical_entries):\n",
        "        self.lexical_entries = lexical_entries\n",
        "\n",
        "def lexical_entries(lexicon):\n",
        "    return lexicon.lexical_entries\n",
        "\n",
        "def merge(*lexicons):\n",
        "    merged_entries = set()\n",
        "    for lexicon in lexicons:\n",
        "        merged_entries.update(lexical_entries(lexicon))\n",
        "    return Lexicon(list(merged_entries))\n",
        "\n",
        "class CombinatoryCategorialGrammar:\n",
        "    def __init__(self, lexicon, type_shifting_rules):\n",
        "        self.lexicon = lexicon\n",
        "        self.type_shifting_rules = type_shifting_rules\n",
        "\n",
        "def lexicon(g):\n",
        "    return g.lexicon\n",
        "\n",
        "def type_shifting_rules(g):\n",
        "    return g.type_shifting_rules\n",
        "\n",
        "def type_shifted_lexical_entries(g):\n",
        "    result = list(lexical_entries(lexicon(g)))\n",
        "    for entry in lexical_entries(lexicon(g)):\n",
        "        new_categories = type_shifting_rules(g).get(lexeme(entry), [])\n",
        "        for new_category in new_categories:\n",
        "            result.append(LexicalEntry(lexeme(entry), new_category))\n",
        "    return result"
      ],
      "metadata": {
        "id": "S4i_JPjFS8Wz"
      },
      "execution_count": 260,
      "outputs": []
    },
    {
      "cell_type": "code",
      "source": [
        "class LexicalEntry:\n",
        "    def __init__(self, lexeme, cat):\n",
        "        self.lexeme = lexeme\n",
        "        self.cat = cat\n",
        "\n",
        "def LexicalEntry(lexeme, syn_type, lf):\n",
        "    return LexicalEntry(lexeme, Category(syn_type, lf))\n",
        "\n",
        "def lexeme(lexical_entry):\n",
        "    return lexical_entry.lexeme\n",
        "\n",
        "def category(lexical_entry):\n",
        "    return lexical_entry.cat\n",
        "\n",
        "class Lexicon:\n",
        "    def __init__(self, lexical_entries):\n",
        "        self.lexical_entries = lexical_entries\n",
        "\n",
        "    def lexical_entries(self):\n",
        "        return self.lexical_entries\n",
        "\n",
        "    def iterate(self, state=None):\n",
        "        return iter(self.lexical_entries)\n",
        "\n",
        "    def merge(*lexicons):\n",
        "        merged_entries = set()\n",
        "        for lexicon in lexicons:\n",
        "            merged_entries.update(set(lexicon.lexical_entries))\n",
        "        return Lexicon(list(merged_entries))\n",
        "\n",
        "class CombinatoryCategorialGrammar:\n",
        "    def __init__(self, lexicon, type_shifting_rules):\n",
        "        self.lexicon = lexicon\n",
        "        self.type_shifting_rules = type_shifting_rules\n",
        "\n",
        "    def lexicon(self):\n",
        "        return self.lexicon\n",
        "\n",
        "    def type_shifting_rules(self):\n",
        "        return self.type_shifting_rules\n",
        "\n",
        "    def type_shifted_lexical_entries(self):\n",
        "        result = []\n",
        "        for entry in self.lexicon.lexical_entries:\n",
        "            for new_category in self.type_shifting_rules.get(entry.lexeme, []):\n",
        "                result.append(LexicalEntry(entry.lexeme, new_category))\n",
        "        return result"
      ],
      "metadata": {
        "id": "eNn_lRC42myz"
      },
      "execution_count": 261,
      "outputs": []
    },
    {
      "cell_type": "code",
      "source": [
        "class LexicalEntry:\n",
        "    def __init__(self, lexeme, cat):\n",
        "        self.lexeme = lexeme\n",
        "        self.cat = cat\n",
        "\n",
        "    def __str__(self):\n",
        "        return f\"LexicalEntry: {self.lexeme}: {self.cat}\"\n",
        "\n",
        "    @classmethod\n",
        "    def from_syn_type(cls, lexeme, syn_type, lf):\n",
        "        return cls(lexeme, Category(syn_type, lf))\n",
        "\n",
        "\n",
        "def lexeme(lexical_entry):\n",
        "    return lexical_entry.lexeme\n",
        "\n",
        "def category(lexical_entry):\n",
        "    return lexical_entry.cat\n",
        "\n",
        "class Lexicon:\n",
        "    def __init__(self, lexical_entries):\n",
        "        self.lexical_entries = lexical_entries\n",
        "\n",
        "    def __str__(self):\n",
        "        entries_str = '\\n'.join(str(entry) for entry in self.lexical_entries)\n",
        "        return f\"Lexicon entries:\\n{entries_str}\"\n",
        "\n",
        "def merge(*lexicons):\n",
        "    merged_entries = set()\n",
        "    for lexicon in lexicons:\n",
        "        merged_entries.update(lexical_entries(lexicon))\n",
        "    return Lexicon(list(merged_entries))\n",
        "\n",
        "class CombinatoryCategorialGrammar:\n",
        "    def __init__(self, lexicon, type_shifting_rules):\n",
        "        self.lexicon = lexicon\n",
        "        self.type_shifting_rules = type_shifting_rules\n",
        "\n",
        "def lexicon(g):\n",
        "    return g.lexicon\n",
        "\n",
        "def type_shifting_rules(g):\n",
        "    return g.type_shifting_rules\n",
        "\n",
        "def type_shifted_lexical_entries(g):\n",
        "    lex = lexicon(g)\n",
        "    result = lex.lexical_entries  # Remove the method call\n",
        "    for entry in lex.lexical_entries:    # Call as an attribute\n",
        "        new_categories = g.type_shifting_rules.get(lexeme(entry), [])\n",
        "        # Process new categories as needed\n",
        "    return result\n",
        "\n"
      ],
      "metadata": {
        "id": "mUdjdQfk3e4F"
      },
      "execution_count": 262,
      "outputs": []
    },
    {
      "cell_type": "code",
      "source": [
        "x = Variable(\"x\")\n",
        "y = Variable(\"y\")\n",
        "f = Constant(\"person\")\n",
        "g = Constant(\"person\")\n",
        "doctor = Constant(\"doctor\")\n",
        "prist = Constant(\"prist\")\n",
        "term = apply(f, x)\n",
        "abs_term = lambda_(x, apply(f, x))\n",
        "\n",
        "N = PrimitiveSyntacticType(\"N\", [])\n",
        "V = PrimitiveSyntacticType(\"V\", [])\n",
        "NP = PrimitiveSyntacticType(\"NP\", [])\n",
        "VP = PrimitiveSyntacticType(\"VP\", [])\n",
        "\n",
        "lf1 = lambda_(x, apply(f, x))\n",
        "lf2 = lambda_(x, apply(g, x))\n",
        "lf3 = lambda_(x, HornClause(apply(doctor, x), apply(g, x)))\n",
        "lf4 = lambda_(x, Conjunction(apply(prist, x), apply(f, x)))\n",
        "\n",
        "entry1 = LexicalEntry.from_syn_type(\"dog\", N, lf1)\n",
        "entry2 = LexicalEntry.from_syn_type(\"run\", V, lf2)\n",
        "entry3 = LexicalEntry.from_syn_type(\"the\", NP // N, lf3)\n",
        "entry4 = LexicalEntry.from_syn_type(\"quickly\", (NP / VP) // NP, lf4)\n",
        "\n",
        "lexical_entries = [entry1, entry2, entry3, entry4]\n",
        "lexicon_instance = Lexicon(lexical_entries)\n",
        "\n",
        "type_shifting_rules_instance = {\n",
        "    \"quickly\": [Category((N / NP) // (N // NP), lf4)],\n",
        "    \"run\": [Category(VP // VP, lf2)]\n",
        "}"
      ],
      "metadata": {
        "id": "KD1kh234S8Se"
      },
      "execution_count": 263,
      "outputs": []
    },
    {
      "cell_type": "code",
      "source": [
        "ccg = CombinatoryCategorialGrammar(lexicon_instance, type_shifting_rules_instance)\n",
        "\n",
        "type_shifted_entries = type_shifted_lexical_entries(ccg)"
      ],
      "metadata": {
        "id": "bn5JISTv0GNx"
      },
      "execution_count": 264,
      "outputs": []
    },
    {
      "cell_type": "code",
      "source": [
        "print(dir(ccg))"
      ],
      "metadata": {
        "colab": {
          "base_uri": "https://localhost:8080/"
        },
        "id": "xIhfrNR10np8",
        "outputId": "48390c27-e3da-4005-bc0b-8e3b181388a7"
      },
      "execution_count": 265,
      "outputs": [
        {
          "output_type": "stream",
          "name": "stdout",
          "text": [
            "['__class__', '__delattr__', '__dict__', '__dir__', '__doc__', '__eq__', '__format__', '__ge__', '__getattribute__', '__gt__', '__hash__', '__init__', '__init_subclass__', '__le__', '__lt__', '__module__', '__ne__', '__new__', '__reduce__', '__reduce_ex__', '__repr__', '__setattr__', '__sizeof__', '__str__', '__subclasshook__', '__weakref__', 'lexicon', 'type_shifting_rules']\n"
          ]
        }
      ]
    },
    {
      "cell_type": "code",
      "source": [
        "print(ccg.type_shifting_rules)"
      ],
      "metadata": {
        "colab": {
          "base_uri": "https://localhost:8080/"
        },
        "id": "xD9Cx1gH0pBT",
        "outputId": "55a0c727-062c-422d-e458-2b0ee805bb6f"
      },
      "execution_count": 266,
      "outputs": [
        {
          "output_type": "stream",
          "name": "stdout",
          "text": [
            "{'quickly': [Category(NP \\ N \\ N / NP, λx.((prist)(x) ∧ (person)(x)))], 'run': [Category(VP \\ VP, λx.((person)(x)))]}\n"
          ]
        }
      ]
    },
    {
      "cell_type": "code",
      "source": [
        "print(ccg.lexicon)"
      ],
      "metadata": {
        "colab": {
          "base_uri": "https://localhost:8080/"
        },
        "id": "KT-_cba90dOa",
        "outputId": "7c5cd6e4-841b-456d-8614-8d6ed0b81390"
      },
      "execution_count": 267,
      "outputs": [
        {
          "output_type": "stream",
          "name": "stdout",
          "text": [
            "Lexicon entries:\n",
            "LexicalEntry: dog: Category(N, λx.((person)(x)))\n",
            "LexicalEntry: run: Category(V, λx.((person)(x)))\n",
            "LexicalEntry: the: Category(N \\ NP, λx.((doctor)(x) ⟹ (person)(x)))\n",
            "LexicalEntry: quickly: Category(NP \\ NP / VP, λx.((prist)(x) ∧ (person)(x)))\n"
          ]
        }
      ]
    },
    {
      "cell_type": "code",
      "source": [
        "def simplify(term):\n",
        "    term_vars = all_vars(term)\n",
        "    simplified_vars = set(map(lambda i: Variable('a' + str(i)), range(26))) - term_vars\n",
        "    simplified = reduce(lambda term, v: rename_var(term, v, simplified_vars.pop()),\n",
        "                             filter(lambda v: str(v).startswith('#'), term_vars),\n",
        "                             init=term)\n",
        "    return simplified\n",
        "\n",
        "\n",
        "\n",
        "##########  This part is not functional yet ############\n",
        "\n",
        "\n",
        "def Apply(left, right, direction):\n",
        "    operator, operand = (left, right) if isinstance(direction, Right) else (right, left)\n",
        "    syntactic_type_combinator = Right if isinstance(direction, Right) else Left\n",
        "\n",
        "#    if isinstance(operator.syntactic_type, ComplexSyntacticType) and \\\n",
        "#       agrees(operator.syntactic_type.arg, operand.syntactic_type):\n",
        "    return Category((operator.syntactic_type.res), simplify(lambda_reduce(apply(operator.logical_form, operand.logical_form))))\n",
        "\n",
        "\n",
        "def Compose(left, right, direction):\n",
        "    operator, operand = (left, right) if isinstance(direction, Right) else (right, left)\n",
        "    syntactic_type_combinator = \"/\" if isinstance(direction, Right) else \"\\\\\"\n",
        "\n",
        "#    if isinstance(operator.syntactic_type, ComplexSyntacticType) and \\\n",
        "#       isinstance(operand.syntactic_type, ComplexSyntacticType) and \\\n",
        "#       agrees(operator.syntactic_type.arg, operand.syntactic_type.res):\n",
        "    return Category(syntactic_type_combinator(operator.syntactic_type.res, operand.syntactic_type.arg),\n",
        "                        simplify(Compose(operator.logical_form, operand.logical_form)))"
      ],
      "metadata": {
        "id": "BN6cXfQwS8Nk"
      },
      "execution_count": 268,
      "outputs": []
    },
    {
      "cell_type": "code",
      "source": [
        "##########  This part is not functional yet ############\n",
        "\n",
        "x = Variable(\"x\")\n",
        "y =  Variable(\"y\")\n",
        "f = Constant(\"f\")\n",
        "g = Constant(\"g\")\n",
        "\n",
        "NP = ComplexSyntacticType(N, NP, Right)\n",
        "VP = ComplexSyntacticType(V, NP, Left)\n",
        "\n",
        "N = PrimitiveSyntacticType(\"N\")\n",
        "V = PrimitiveSyntacticType(\"V\")\n",
        "\n",
        "lf1 = LambdaTerm()\n",
        "lf2 = LambdaTerm()\n",
        "\n",
        "cat1 = Category(N, lf1)\n",
        "cat2 = Category(NP, lf2)\n",
        "\n",
        "result = Apply(cat1, cat2, Right)\n",
        "\n",
        "print(\"Result of applying cat1 to cat2 (Right):\", result)\n"
      ],
      "metadata": {
        "id": "QpBuubxFoGkd"
      },
      "execution_count": null,
      "outputs": []
    },
    {
      "cell_type": "code",
      "source": [],
      "metadata": {
        "id": "ZGNCJoE_i5_n"
      },
      "execution_count": null,
      "outputs": []
    },
    {
      "cell_type": "code",
      "source": [],
      "metadata": {
        "id": "v5hCivoYIlXd"
      },
      "execution_count": null,
      "outputs": []
    },
    {
      "cell_type": "code",
      "source": [],
      "metadata": {
        "id": "xoPlRTtdIlTE"
      },
      "execution_count": null,
      "outputs": []
    },
    {
      "cell_type": "code",
      "source": [],
      "metadata": {
        "id": "C6OOf2CWIlOs"
      },
      "execution_count": null,
      "outputs": []
    },
    {
      "cell_type": "code",
      "source": [],
      "metadata": {
        "id": "NhqWcM4EIlHW"
      },
      "execution_count": null,
      "outputs": []
    },
    {
      "cell_type": "markdown",
      "source": [
        "## SemanticParser\n"
      ],
      "metadata": {
        "id": "RWR-cu4SkEDV"
      }
    },
    {
      "cell_type": "code",
      "source": [],
      "metadata": {
        "id": "Cf7Xmav5IQAC"
      },
      "execution_count": null,
      "outputs": []
    },
    {
      "cell_type": "markdown",
      "source": [
        "## Semantic Parser Demo"
      ],
      "metadata": {
        "id": "RIigKH2-lRAE"
      }
    },
    {
      "cell_type": "code",
      "source": [],
      "metadata": {
        "id": "u2OW7_UMIQYh"
      },
      "execution_count": null,
      "outputs": []
    }
  ]
}